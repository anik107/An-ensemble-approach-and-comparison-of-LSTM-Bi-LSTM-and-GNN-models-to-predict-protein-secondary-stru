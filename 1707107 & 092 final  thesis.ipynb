{
 "cells": [
  {
   "cell_type": "code",
   "execution_count": 1,
   "id": "0a2cdd90",
   "metadata": {},
   "outputs": [],
   "source": [
    "import numpy as np                                     # linear algebra\n",
    "import pandas as pd                                    # data processing, CSV file I/O (e.g. pd.read_csv)\n",
    "import copy                                            #to copy list\n",
    "from sklearn.model_selection import train_test_split   #to split dataset into train and test set\n",
    "from sklearn.svm import SVC                            #to create svc instance\n",
    "from sklearn.metrics import classification_report      #to create report for precision,recall,f1-score,accuracy\n",
    "from sklearn import metrics                            #to get accuracy\n",
    "from sklearn.model_selection import GridSearchCV       #to optimise the hyper-parameter \n",
    "import pandas as pd \n",
    "import random\n",
    "import string\n",
    "import matplotlib.pyplot as plt \n",
    "%matplotlib inline\n",
    "\n",
    "df = pd.read_csv(\"protine.csv\")\n",
    "#df = pd.read_csv('../input/anik3pssp/pdb-intersect-pisces.csv')"
   ]
  },
  {
   "cell_type": "code",
   "execution_count": 2,
   "id": "14c3ea87",
   "metadata": {},
   "outputs": [
    {
     "name": "stdout",
     "output_type": "stream",
     "text": [
      "['EDK' 'KCK' 'KAK' 'KFK' 'KAK']\n",
      "270\n"
     ]
    }
   ],
   "source": [
    "maxlen_seq = 4\n",
    "input_seqs, target_seqs = df[['seq', 'sst3']][(df.len <= maxlen_seq) & (~df.has_nonstd_aa)].values.T\n",
    "#input_grams = seq2ngrams(input_seqs)\n",
    "print(input_seqs[0:5])\n",
    "print(input_seqs.size)"
   ]
  },
  {
   "cell_type": "code",
   "execution_count": 3,
   "id": "feb1bf4b",
   "metadata": {},
   "outputs": [
    {
     "name": "stdout",
     "output_type": "stream",
     "text": [
      "['CEC' 'CEC' 'CEC' 'CEC' 'CEC']\n",
      "270\n",
      "270\n",
      "3\n"
     ]
    }
   ],
   "source": [
    "print(target_seqs[0:5])\n",
    "print(target_seqs.size)\n",
    "print(len(target_seqs))\n",
    "print(len(target_seqs[0]))"
   ]
  },
  {
   "cell_type": "code",
   "execution_count": 4,
   "id": "4e42c6f4",
   "metadata": {},
   "outputs": [],
   "source": [
    "for row in range(len(target_seqs)):\n",
    "    secondary_lenth = len(target_seqs[row])\n",
    "    primary_lenth = len(input_seqs[row])\n",
    "    \n",
    "    if(secondary_lenth != primary_lenth):\n",
    "        print(\"(\",row,\") Secondary_Structure ->\", target_seqs[row],\" Primary_Structure -> \",input_seqs[row])"
   ]
  },
  {
   "cell_type": "code",
   "execution_count": 5,
   "id": "c8208b66",
   "metadata": {},
   "outputs": [
    {
     "name": "stdout",
     "output_type": "stream",
     "text": [
      "count of secondary structure :  961\n",
      "count of primary structure :  961\n"
     ]
    }
   ],
   "source": [
    "secondary_count = 0\n",
    "primary_count = 0\n",
    "for row in range(len(target_seqs)):\n",
    "    secondary_lenth = len(target_seqs[row])\n",
    "    primary_lenth = len(input_seqs[row])\n",
    "    secondary_count = secondary_count + secondary_lenth\n",
    "    primary_count = primary_count + primary_lenth\n",
    "    if(secondary_lenth != primary_lenth):\n",
    "        print(\"(\",row,\") Secondary_Structure ->\", target_seqs[row],\" Primary_Structure -> \",input_seqs[row])\n",
    "        \n",
    "print(\"count of secondary structure : \",secondary_count)\n",
    "print(\"count of primary structure : \",primary_count)"
   ]
  },
  {
   "cell_type": "code",
   "execution_count": 6,
   "id": "d3f4fce5",
   "metadata": {},
   "outputs": [],
   "source": [
    "#sequence=\"EDK\"\n",
    "def split(sequence): \n",
    "    return [char for char in sequence]"
   ]
  },
  {
   "cell_type": "code",
   "execution_count": 7,
   "id": "62042605",
   "metadata": {},
   "outputs": [],
   "source": [
    "primary_split = []\n",
    "secondary_split = []\n",
    "for row in range(int(len(target_seqs)/40)):\n",
    "    primary_split.append(split(input_seqs[row]))\n",
    "    secondary_split.append(split(target_seqs[row]))"
   ]
  },
  {
   "cell_type": "code",
   "execution_count": 8,
   "id": "cd4a5ce4",
   "metadata": {},
   "outputs": [],
   "source": [
    "def orthogonal_primary(arg):\n",
    "    switch = {\n",
    "        'A' : np.array([1,0,0,0,0,0,0,0,0,0,0,0,0,0,0,0,0,0,0,0]),  # 20 amino acids\n",
    "        'C' : np.array([0,1,0,0,0,0,0,0,0,0,0,0,0,0,0,0,0,0,0,0]),\n",
    "        'E' : np.array([0,0,1,0,0,0,0,0,0,0,0,0,0,0,0,0,0,0,0,0]),\n",
    "        'D' : np.array([0,0,0,1,0,0,0,0,0,0,0,0,0,0,0,0,0,0,0,0]),\n",
    "        'G' : np.array([0,0,0,0,1,0,0,0,0,0,0,0,0,0,0,0,0,0,0,0]),\n",
    "        'F' : np.array([0,0,0,0,0,1,0,0,0,0,0,0,0,0,0,0,0,0,0,0]),\n",
    "        'I' : np.array([0,0,0,0,0,0,1,0,0,0,0,0,0,0,0,0,0,0,0,0]),\n",
    "        'H' : np.array([0,0,0,0,0,0,0,1,0,0,0,0,0,0,0,0,0,0,0,0]),\n",
    "        'K' : np.array([0,0,0,0,0,0,0,0,1,0,0,0,0,0,0,0,0,0,0,0]),\n",
    "        'M' : np.array([0,0,0,0,0,0,0,0,0,1,0,0,0,0,0,0,0,0,0,0]),\n",
    "        'L' : np.array([0,0,0,0,0,0,0,0,0,0,1,0,0,0,0,0,0,0,0,0]),\n",
    "        'N' : np.array([0,0,0,0,0,0,0,0,0,0,0,1,0,0,0,0,0,0,0,0]),\n",
    "        'Q' : np.array([0,0,0,0,0,0,0,0,0,0,0,0,1,0,0,0,0,0,0,0]),\n",
    "        'P' : np.array([0,0,0,0,0,0,0,0,0,0,0,0,0,1,0,0,0,0,0,0]),\n",
    "        'S' : np.array([0,0,0,0,0,0,0,0,0,0,0,0,0,0,1,0,0,0,0,0]),\n",
    "        'R' : np.array([0,0,0,0,0,0,0,0,0,0,0,0,0,0,0,1,0,0,0,0]),\n",
    "        'T' : np.array([0,0,0,0,0,0,0,0,0,0,0,0,0,0,0,0,1,0,0,0]),\n",
    "        'W' : np.array([0,0,0,0,0,0,0,0,0,0,0,0,0,0,0,0,0,1,0,0]),\n",
    "        'V' : np.array([0,0,0,0,0,0,0,0,0,0,0,0,0,0,0,0,0,0,1,0]),\n",
    "        'Y' : np.array([0,0,0,0,0,0,0,0,0,0,0,0,0,0,0,0,0,0,0,1])\n",
    "    }\n",
    "    \n",
    "    return switch.get(arg)\n",
    "\n",
    "def orthogonal_secondary(arg):\n",
    "    switch = {\n",
    "        'H' : 0,                    # H= α-helix\n",
    "        'C' : 1,                    # C= Loops and irregular elements\n",
    "        'E' : 2,                    # E= β-strand\n",
    "        'B' : 3,                    # B= β-bridge\n",
    "        'G' : 4,                    # G= 3-helix\n",
    "        'I' : 5,                    # I= π-helix\n",
    "        'T' : 6,                    # T= Turn\n",
    "        'S' : 7                     # S= Bend\n",
    "    }\n",
    "    \n",
    "    return switch.get(arg)"
   ]
  },
  {
   "cell_type": "code",
   "execution_count": 9,
   "id": "82478de0",
   "metadata": {},
   "outputs": [],
   "source": [
    "#print(len(primary_split))\n",
    "#print(len(secondary_split))\n",
    "for row in range(len(primary_split)):  \n",
    "    sequence = primary_split[row]\n",
    "    for col in range(len(sequence)):\n",
    "        #print(sequence[col])\n",
    "        sequence[col] = orthogonal_primary(sequence[col])\n",
    "        #print(sequence[col])"
   ]
  },
  {
   "cell_type": "code",
   "execution_count": 10,
   "id": "e223ffc4",
   "metadata": {},
   "outputs": [],
   "source": [
    "for row in range(len(secondary_split)):  \n",
    "    sequenceS = secondary_split[row]\n",
    "    for col in range(len(sequenceS)):\n",
    "        sequenceS[col] = orthogonal_secondary(sequenceS[col])"
   ]
  },
  {
   "cell_type": "code",
   "execution_count": 11,
   "id": "539f1464",
   "metadata": {},
   "outputs": [
    {
     "data": {
      "text/plain": [
       "[[array([0, 0, 1, 0, 0, 0, 0, 0, 0, 0, 0, 0, 0, 0, 0, 0, 0, 0, 0, 0]),\n",
       "  array([0, 0, 0, 1, 0, 0, 0, 0, 0, 0, 0, 0, 0, 0, 0, 0, 0, 0, 0, 0]),\n",
       "  array([0, 0, 0, 0, 0, 0, 0, 0, 1, 0, 0, 0, 0, 0, 0, 0, 0, 0, 0, 0])],\n",
       " [array([0, 0, 0, 0, 0, 0, 0, 0, 1, 0, 0, 0, 0, 0, 0, 0, 0, 0, 0, 0]),\n",
       "  array([0, 1, 0, 0, 0, 0, 0, 0, 0, 0, 0, 0, 0, 0, 0, 0, 0, 0, 0, 0]),\n",
       "  array([0, 0, 0, 0, 0, 0, 0, 0, 1, 0, 0, 0, 0, 0, 0, 0, 0, 0, 0, 0])],\n",
       " [array([0, 0, 0, 0, 0, 0, 0, 0, 1, 0, 0, 0, 0, 0, 0, 0, 0, 0, 0, 0]),\n",
       "  array([1, 0, 0, 0, 0, 0, 0, 0, 0, 0, 0, 0, 0, 0, 0, 0, 0, 0, 0, 0]),\n",
       "  array([0, 0, 0, 0, 0, 0, 0, 0, 1, 0, 0, 0, 0, 0, 0, 0, 0, 0, 0, 0])],\n",
       " [array([0, 0, 0, 0, 0, 0, 0, 0, 1, 0, 0, 0, 0, 0, 0, 0, 0, 0, 0, 0]),\n",
       "  array([0, 0, 0, 0, 0, 1, 0, 0, 0, 0, 0, 0, 0, 0, 0, 0, 0, 0, 0, 0]),\n",
       "  array([0, 0, 0, 0, 0, 0, 0, 0, 1, 0, 0, 0, 0, 0, 0, 0, 0, 0, 0, 0])],\n",
       " [array([0, 0, 0, 0, 0, 0, 0, 0, 1, 0, 0, 0, 0, 0, 0, 0, 0, 0, 0, 0]),\n",
       "  array([1, 0, 0, 0, 0, 0, 0, 0, 0, 0, 0, 0, 0, 0, 0, 0, 0, 0, 0, 0]),\n",
       "  array([0, 0, 0, 0, 0, 0, 0, 0, 1, 0, 0, 0, 0, 0, 0, 0, 0, 0, 0, 0])]]"
      ]
     },
     "execution_count": 11,
     "metadata": {},
     "output_type": "execute_result"
    }
   ],
   "source": [
    "primary_split[0:5]"
   ]
  },
  {
   "cell_type": "code",
   "execution_count": 12,
   "id": "a8ee9f49",
   "metadata": {},
   "outputs": [
    {
     "data": {
      "text/plain": [
       "[[1, 2, 1], [1, 2, 1], [1, 2, 1], [1, 2, 1], [1, 2, 1]]"
      ]
     },
     "execution_count": 12,
     "metadata": {},
     "output_type": "execute_result"
    }
   ],
   "source": [
    "secondary_split[0:5]"
   ]
  },
  {
   "cell_type": "code",
   "execution_count": 13,
   "id": "2bef3ac2",
   "metadata": {},
   "outputs": [],
   "source": [
    "def graph_sum2(seq1,seq2):\n",
    "    result = [None]*len(seq1)\n",
    "    for col in range(len(seq1)):\n",
    "        result[col] =  seq1[col]+seq2[col]\n",
    "    return result\n",
    "\n",
    "\n",
    "def graph_sum3(seq1,seq2,seq3):\n",
    "    result = [None]*len(seq1)\n",
    "    for col in range(len(seq1)):\n",
    "        result[col] =  seq1[col]+seq2[col]+seq3[col]\n",
    "    return result"
   ]
  },
  {
   "cell_type": "code",
   "execution_count": 14,
   "id": "701c6f82",
   "metadata": {},
   "outputs": [
    {
     "data": {
      "text/plain": [
       "[[[0, 0, 1, 1, 0, 0, 0, 0, 0, 0, 0, 0, 0, 0, 0, 0, 0, 0, 0, 0],\n",
       "  [0, 0, 1, 1, 0, 0, 0, 0, 1, 0, 0, 0, 0, 0, 0, 0, 0, 0, 0, 0],\n",
       "  [0, 0, 0, 1, 0, 0, 0, 0, 1, 0, 0, 0, 0, 0, 0, 0, 0, 0, 0, 0]],\n",
       " [[0, 1, 0, 0, 0, 0, 0, 0, 1, 0, 0, 0, 0, 0, 0, 0, 0, 0, 0, 0],\n",
       "  [0, 1, 0, 0, 0, 0, 0, 0, 2, 0, 0, 0, 0, 0, 0, 0, 0, 0, 0, 0],\n",
       "  [0, 1, 0, 0, 0, 0, 0, 0, 1, 0, 0, 0, 0, 0, 0, 0, 0, 0, 0, 0]],\n",
       " [[1, 0, 0, 0, 0, 0, 0, 0, 1, 0, 0, 0, 0, 0, 0, 0, 0, 0, 0, 0],\n",
       "  [1, 0, 0, 0, 0, 0, 0, 0, 2, 0, 0, 0, 0, 0, 0, 0, 0, 0, 0, 0],\n",
       "  [1, 0, 0, 0, 0, 0, 0, 0, 1, 0, 0, 0, 0, 0, 0, 0, 0, 0, 0, 0]],\n",
       " [[0, 0, 0, 0, 0, 1, 0, 0, 1, 0, 0, 0, 0, 0, 0, 0, 0, 0, 0, 0],\n",
       "  [0, 0, 0, 0, 0, 1, 0, 0, 2, 0, 0, 0, 0, 0, 0, 0, 0, 0, 0, 0],\n",
       "  [0, 0, 0, 0, 0, 1, 0, 0, 1, 0, 0, 0, 0, 0, 0, 0, 0, 0, 0, 0]],\n",
       " [[1, 0, 0, 0, 0, 0, 0, 0, 1, 0, 0, 0, 0, 0, 0, 0, 0, 0, 0, 0],\n",
       "  [1, 0, 0, 0, 0, 0, 0, 0, 2, 0, 0, 0, 0, 0, 0, 0, 0, 0, 0, 0],\n",
       "  [1, 0, 0, 0, 0, 0, 0, 0, 1, 0, 0, 0, 0, 0, 0, 0, 0, 0, 0, 0]]]"
      ]
     },
     "execution_count": 14,
     "metadata": {},
     "output_type": "execute_result"
    }
   ],
   "source": [
    "graph_input = copy.deepcopy(primary_split)\n",
    "for row in range(len(primary_split)):\n",
    "    sequence = primary_split[row]\n",
    "    graph_input[row][0]=graph_sum2(sequence[0],sequence[1])\n",
    "    graph_input[row][len(sequence)-1]=graph_sum2(sequence[len(sequence)-1],sequence[len(sequence)-2])\n",
    "    for col in range(1,len(sequence)-1):\n",
    "        graph_input[row][col] = graph_sum3(sequence[col-1],sequence[col],sequence[col+1])\n",
    "        \n",
    "graph_input[0:5]"
   ]
  },
  {
   "cell_type": "code",
   "execution_count": 15,
   "id": "712b84c1",
   "metadata": {},
   "outputs": [],
   "source": [
    "def targetY(data_list):\n",
    "    Y = []\n",
    "    for i in range(len(data_list)):\n",
    "        for j  in range(len(data_list[i])):\n",
    "            Y.append(data_list[i][j])\n",
    "    return Y"
   ]
  },
  {
   "cell_type": "code",
   "execution_count": 16,
   "id": "d61e9a30",
   "metadata": {},
   "outputs": [],
   "source": [
    "y_label = targetY(secondary_split)"
   ]
  },
  {
   "cell_type": "code",
   "execution_count": 17,
   "id": "da56263e",
   "metadata": {},
   "outputs": [
    {
     "name": "stdout",
     "output_type": "stream",
     "text": [
      "18\n",
      "[1, 2, 1, 1, 2]\n"
     ]
    }
   ],
   "source": [
    "print(len(y_label))\n",
    "print(y_label[0:5])"
   ]
  },
  {
   "cell_type": "code",
   "execution_count": 18,
   "id": "4808026e",
   "metadata": {},
   "outputs": [],
   "source": [
    "def window_padding_data(size, sequence):\n",
    "    num = int(size/2)\n",
    "    #print(\"initial :\",sequence[0])\n",
    "    #print(\"\")\n",
    "    zeros = np.array([0, 0, 0, 0, 0, 0, 0, 0, 0, 0, 0, 0, 0, 0, 0, 0, 0, 0, 0, 0])\n",
    "    for i in range(len(sequence)):\n",
    "        for j in range(num):\n",
    "            sequence[i].append(zeros)\n",
    "            sequence[i].insert(0, zeros)\n",
    "            #print(sequence[i])\n",
    "            #print(\"\")\n",
    "            \n",
    "    X = []\n",
    "    temp = []\n",
    "\n",
    "    for k in range(len(sequence)):\n",
    "        #print(sequence[k])\n",
    "        for l in range(len(sequence[k])-(size-1)):\n",
    "            temp = sequence[k][l:l+size]\n",
    "           # print(temp)\n",
    "            X.append(temp)\n",
    "            temp = []\n",
    "\n",
    "    return X"
   ]
  },
  {
   "cell_type": "code",
   "execution_count": 19,
   "id": "bcb0f2ba",
   "metadata": {},
   "outputs": [
    {
     "data": {
      "text/plain": [
       "[[array([0, 0, 0, 0, 0, 0, 0, 0, 0, 0, 0, 0, 0, 0, 0, 0, 0, 0, 0, 0]),\n",
       "  array([0, 0, 0, 0, 0, 0, 0, 0, 0, 0, 0, 0, 0, 0, 0, 0, 0, 0, 0, 0]),\n",
       "  array([0, 0, 0, 0, 0, 0, 0, 0, 0, 0, 0, 0, 0, 0, 0, 0, 0, 0, 0, 0]),\n",
       "  array([0, 0, 0, 0, 0, 0, 0, 0, 0, 0, 0, 0, 0, 0, 0, 0, 0, 0, 0, 0]),\n",
       "  array([0, 0, 0, 0, 0, 0, 0, 0, 0, 0, 0, 0, 0, 0, 0, 0, 0, 0, 0, 0]),\n",
       "  [0, 0, 1, 1, 0, 0, 0, 0, 0, 0, 0, 0, 0, 0, 0, 0, 0, 0, 0, 0],\n",
       "  [0, 0, 1, 1, 0, 0, 0, 0, 1, 0, 0, 0, 0, 0, 0, 0, 0, 0, 0, 0],\n",
       "  [0, 0, 0, 1, 0, 0, 0, 0, 1, 0, 0, 0, 0, 0, 0, 0, 0, 0, 0, 0],\n",
       "  array([0, 0, 0, 0, 0, 0, 0, 0, 0, 0, 0, 0, 0, 0, 0, 0, 0, 0, 0, 0]),\n",
       "  array([0, 0, 0, 0, 0, 0, 0, 0, 0, 0, 0, 0, 0, 0, 0, 0, 0, 0, 0, 0]),\n",
       "  array([0, 0, 0, 0, 0, 0, 0, 0, 0, 0, 0, 0, 0, 0, 0, 0, 0, 0, 0, 0])],\n",
       " [array([0, 0, 0, 0, 0, 0, 0, 0, 0, 0, 0, 0, 0, 0, 0, 0, 0, 0, 0, 0]),\n",
       "  array([0, 0, 0, 0, 0, 0, 0, 0, 0, 0, 0, 0, 0, 0, 0, 0, 0, 0, 0, 0]),\n",
       "  array([0, 0, 0, 0, 0, 0, 0, 0, 0, 0, 0, 0, 0, 0, 0, 0, 0, 0, 0, 0]),\n",
       "  array([0, 0, 0, 0, 0, 0, 0, 0, 0, 0, 0, 0, 0, 0, 0, 0, 0, 0, 0, 0]),\n",
       "  [0, 0, 1, 1, 0, 0, 0, 0, 0, 0, 0, 0, 0, 0, 0, 0, 0, 0, 0, 0],\n",
       "  [0, 0, 1, 1, 0, 0, 0, 0, 1, 0, 0, 0, 0, 0, 0, 0, 0, 0, 0, 0],\n",
       "  [0, 0, 0, 1, 0, 0, 0, 0, 1, 0, 0, 0, 0, 0, 0, 0, 0, 0, 0, 0],\n",
       "  array([0, 0, 0, 0, 0, 0, 0, 0, 0, 0, 0, 0, 0, 0, 0, 0, 0, 0, 0, 0]),\n",
       "  array([0, 0, 0, 0, 0, 0, 0, 0, 0, 0, 0, 0, 0, 0, 0, 0, 0, 0, 0, 0]),\n",
       "  array([0, 0, 0, 0, 0, 0, 0, 0, 0, 0, 0, 0, 0, 0, 0, 0, 0, 0, 0, 0]),\n",
       "  array([0, 0, 0, 0, 0, 0, 0, 0, 0, 0, 0, 0, 0, 0, 0, 0, 0, 0, 0, 0])],\n",
       " [array([0, 0, 0, 0, 0, 0, 0, 0, 0, 0, 0, 0, 0, 0, 0, 0, 0, 0, 0, 0]),\n",
       "  array([0, 0, 0, 0, 0, 0, 0, 0, 0, 0, 0, 0, 0, 0, 0, 0, 0, 0, 0, 0]),\n",
       "  array([0, 0, 0, 0, 0, 0, 0, 0, 0, 0, 0, 0, 0, 0, 0, 0, 0, 0, 0, 0]),\n",
       "  [0, 0, 1, 1, 0, 0, 0, 0, 0, 0, 0, 0, 0, 0, 0, 0, 0, 0, 0, 0],\n",
       "  [0, 0, 1, 1, 0, 0, 0, 0, 1, 0, 0, 0, 0, 0, 0, 0, 0, 0, 0, 0],\n",
       "  [0, 0, 0, 1, 0, 0, 0, 0, 1, 0, 0, 0, 0, 0, 0, 0, 0, 0, 0, 0],\n",
       "  array([0, 0, 0, 0, 0, 0, 0, 0, 0, 0, 0, 0, 0, 0, 0, 0, 0, 0, 0, 0]),\n",
       "  array([0, 0, 0, 0, 0, 0, 0, 0, 0, 0, 0, 0, 0, 0, 0, 0, 0, 0, 0, 0]),\n",
       "  array([0, 0, 0, 0, 0, 0, 0, 0, 0, 0, 0, 0, 0, 0, 0, 0, 0, 0, 0, 0]),\n",
       "  array([0, 0, 0, 0, 0, 0, 0, 0, 0, 0, 0, 0, 0, 0, 0, 0, 0, 0, 0, 0]),\n",
       "  array([0, 0, 0, 0, 0, 0, 0, 0, 0, 0, 0, 0, 0, 0, 0, 0, 0, 0, 0, 0])],\n",
       " [array([0, 0, 0, 0, 0, 0, 0, 0, 0, 0, 0, 0, 0, 0, 0, 0, 0, 0, 0, 0]),\n",
       "  array([0, 0, 0, 0, 0, 0, 0, 0, 0, 0, 0, 0, 0, 0, 0, 0, 0, 0, 0, 0]),\n",
       "  array([0, 0, 0, 0, 0, 0, 0, 0, 0, 0, 0, 0, 0, 0, 0, 0, 0, 0, 0, 0]),\n",
       "  array([0, 0, 0, 0, 0, 0, 0, 0, 0, 0, 0, 0, 0, 0, 0, 0, 0, 0, 0, 0]),\n",
       "  array([0, 0, 0, 0, 0, 0, 0, 0, 0, 0, 0, 0, 0, 0, 0, 0, 0, 0, 0, 0]),\n",
       "  [0, 1, 0, 0, 0, 0, 0, 0, 1, 0, 0, 0, 0, 0, 0, 0, 0, 0, 0, 0],\n",
       "  [0, 1, 0, 0, 0, 0, 0, 0, 2, 0, 0, 0, 0, 0, 0, 0, 0, 0, 0, 0],\n",
       "  [0, 1, 0, 0, 0, 0, 0, 0, 1, 0, 0, 0, 0, 0, 0, 0, 0, 0, 0, 0],\n",
       "  array([0, 0, 0, 0, 0, 0, 0, 0, 0, 0, 0, 0, 0, 0, 0, 0, 0, 0, 0, 0]),\n",
       "  array([0, 0, 0, 0, 0, 0, 0, 0, 0, 0, 0, 0, 0, 0, 0, 0, 0, 0, 0, 0]),\n",
       "  array([0, 0, 0, 0, 0, 0, 0, 0, 0, 0, 0, 0, 0, 0, 0, 0, 0, 0, 0, 0])],\n",
       " [array([0, 0, 0, 0, 0, 0, 0, 0, 0, 0, 0, 0, 0, 0, 0, 0, 0, 0, 0, 0]),\n",
       "  array([0, 0, 0, 0, 0, 0, 0, 0, 0, 0, 0, 0, 0, 0, 0, 0, 0, 0, 0, 0]),\n",
       "  array([0, 0, 0, 0, 0, 0, 0, 0, 0, 0, 0, 0, 0, 0, 0, 0, 0, 0, 0, 0]),\n",
       "  array([0, 0, 0, 0, 0, 0, 0, 0, 0, 0, 0, 0, 0, 0, 0, 0, 0, 0, 0, 0]),\n",
       "  [0, 1, 0, 0, 0, 0, 0, 0, 1, 0, 0, 0, 0, 0, 0, 0, 0, 0, 0, 0],\n",
       "  [0, 1, 0, 0, 0, 0, 0, 0, 2, 0, 0, 0, 0, 0, 0, 0, 0, 0, 0, 0],\n",
       "  [0, 1, 0, 0, 0, 0, 0, 0, 1, 0, 0, 0, 0, 0, 0, 0, 0, 0, 0, 0],\n",
       "  array([0, 0, 0, 0, 0, 0, 0, 0, 0, 0, 0, 0, 0, 0, 0, 0, 0, 0, 0, 0]),\n",
       "  array([0, 0, 0, 0, 0, 0, 0, 0, 0, 0, 0, 0, 0, 0, 0, 0, 0, 0, 0, 0]),\n",
       "  array([0, 0, 0, 0, 0, 0, 0, 0, 0, 0, 0, 0, 0, 0, 0, 0, 0, 0, 0, 0]),\n",
       "  array([0, 0, 0, 0, 0, 0, 0, 0, 0, 0, 0, 0, 0, 0, 0, 0, 0, 0, 0, 0])]]"
      ]
     },
     "execution_count": 19,
     "metadata": {},
     "output_type": "execute_result"
    }
   ],
   "source": [
    "X = window_padding_data(11,graph_input)\n",
    "len(X)\n",
    "X[0:5]"
   ]
  },
  {
   "cell_type": "code",
   "execution_count": 20,
   "id": "d257a8d4",
   "metadata": {},
   "outputs": [
    {
     "name": "stdout",
     "output_type": "stream",
     "text": [
      "[[0 0 0 0 0 0 0 0 0 0 0 0 0 0 0 0 0 0 0 0 0 0 0 0 0 0 0 0 0 0 0 0 0 0 0 0\n",
      "  0 0 0 0 0 0 0 0 0 0 0 0 0 0 0 0 0 0 0 0 0 0 0 0 0 0 0 0 0 0 0 0 0 0 0 0\n",
      "  0 0 0 0 0 0 0 0 0 0 0 0 0 0 0 0 0 0 0 0 0 0 0 0 0 0 0 0 0 0 1 1 0 0 0 0\n",
      "  0 0 0 0 0 0 0 0 0 0 0 0 0 0 1 1 0 0 0 0 1 0 0 0 0 0 0 0 0 0 0 0 0 0 0 1\n",
      "  0 0 0 0 1 0 0 0 0 0 0 0 0 0 0 0 0 0 0 0 0 0 0 0 0 0 0 0 0 0 0 0 0 0 0 0\n",
      "  0 0 0 0 0 0 0 0 0 0 0 0 0 0 0 0 0 0 0 0 0 0 0 0 0 0 0 0 0 0 0 0 0 0 0 0\n",
      "  0 0 0 0]\n",
      " [0 0 0 0 0 0 0 0 0 0 0 0 0 0 0 0 0 0 0 0 0 0 0 0 0 0 0 0 0 0 0 0 0 0 0 0\n",
      "  0 0 0 0 0 0 0 0 0 0 0 0 0 0 0 0 0 0 0 0 0 0 0 0 0 0 0 0 0 0 0 0 0 0 0 0\n",
      "  0 0 0 0 0 0 0 0 0 0 1 1 0 0 0 0 0 0 0 0 0 0 0 0 0 0 0 0 0 0 1 1 0 0 0 0\n",
      "  1 0 0 0 0 0 0 0 0 0 0 0 0 0 0 1 0 0 0 0 1 0 0 0 0 0 0 0 0 0 0 0 0 0 0 0\n",
      "  0 0 0 0 0 0 0 0 0 0 0 0 0 0 0 0 0 0 0 0 0 0 0 0 0 0 0 0 0 0 0 0 0 0 0 0\n",
      "  0 0 0 0 0 0 0 0 0 0 0 0 0 0 0 0 0 0 0 0 0 0 0 0 0 0 0 0 0 0 0 0 0 0 0 0\n",
      "  0 0 0 0]\n",
      " [0 0 0 0 0 0 0 0 0 0 0 0 0 0 0 0 0 0 0 0 0 0 0 0 0 0 0 0 0 0 0 0 0 0 0 0\n",
      "  0 0 0 0 0 0 0 0 0 0 0 0 0 0 0 0 0 0 0 0 0 0 0 0 0 0 1 1 0 0 0 0 0 0 0 0\n",
      "  0 0 0 0 0 0 0 0 0 0 1 1 0 0 0 0 1 0 0 0 0 0 0 0 0 0 0 0 0 0 0 1 0 0 0 0\n",
      "  1 0 0 0 0 0 0 0 0 0 0 0 0 0 0 0 0 0 0 0 0 0 0 0 0 0 0 0 0 0 0 0 0 0 0 0\n",
      "  0 0 0 0 0 0 0 0 0 0 0 0 0 0 0 0 0 0 0 0 0 0 0 0 0 0 0 0 0 0 0 0 0 0 0 0\n",
      "  0 0 0 0 0 0 0 0 0 0 0 0 0 0 0 0 0 0 0 0 0 0 0 0 0 0 0 0 0 0 0 0 0 0 0 0\n",
      "  0 0 0 0]\n",
      " [0 0 0 0 0 0 0 0 0 0 0 0 0 0 0 0 0 0 0 0 0 0 0 0 0 0 0 0 0 0 0 0 0 0 0 0\n",
      "  0 0 0 0 0 0 0 0 0 0 0 0 0 0 0 0 0 0 0 0 0 0 0 0 0 0 0 0 0 0 0 0 0 0 0 0\n",
      "  0 0 0 0 0 0 0 0 0 0 0 0 0 0 0 0 0 0 0 0 0 0 0 0 0 0 0 0 0 1 0 0 0 0 0 0\n",
      "  1 0 0 0 0 0 0 0 0 0 0 0 0 1 0 0 0 0 0 0 2 0 0 0 0 0 0 0 0 0 0 0 0 1 0 0\n",
      "  0 0 0 0 1 0 0 0 0 0 0 0 0 0 0 0 0 0 0 0 0 0 0 0 0 0 0 0 0 0 0 0 0 0 0 0\n",
      "  0 0 0 0 0 0 0 0 0 0 0 0 0 0 0 0 0 0 0 0 0 0 0 0 0 0 0 0 0 0 0 0 0 0 0 0\n",
      "  0 0 0 0]\n",
      " [0 0 0 0 0 0 0 0 0 0 0 0 0 0 0 0 0 0 0 0 0 0 0 0 0 0 0 0 0 0 0 0 0 0 0 0\n",
      "  0 0 0 0 0 0 0 0 0 0 0 0 0 0 0 0 0 0 0 0 0 0 0 0 0 0 0 0 0 0 0 0 0 0 0 0\n",
      "  0 0 0 0 0 0 0 0 0 1 0 0 0 0 0 0 1 0 0 0 0 0 0 0 0 0 0 0 0 1 0 0 0 0 0 0\n",
      "  2 0 0 0 0 0 0 0 0 0 0 0 0 1 0 0 0 0 0 0 1 0 0 0 0 0 0 0 0 0 0 0 0 0 0 0\n",
      "  0 0 0 0 0 0 0 0 0 0 0 0 0 0 0 0 0 0 0 0 0 0 0 0 0 0 0 0 0 0 0 0 0 0 0 0\n",
      "  0 0 0 0 0 0 0 0 0 0 0 0 0 0 0 0 0 0 0 0 0 0 0 0 0 0 0 0 0 0 0 0 0 0 0 0\n",
      "  0 0 0 0]]\n"
     ]
    }
   ],
   "source": [
    "np.set_printoptions(threshold=np.inf)\n",
    "X = np.array(X)\n",
    "y_label = np.array(y_label)\n",
    "X = X.reshape(len(X),11*20)\n",
    "print(X[0:5])"
   ]
  },
  {
   "cell_type": "code",
   "execution_count": 21,
   "id": "b01fbc9f",
   "metadata": {},
   "outputs": [],
   "source": [
    "#split the dataset into train set and test set\n",
    "X_train, X_test, y_train, y_test = train_test_split(X, y_label, test_size = 0.20,random_state=54)"
   ]
  },
  {
   "cell_type": "code",
   "execution_count": 22,
   "id": "ad09d0a9",
   "metadata": {
    "scrolled": true
   },
   "outputs": [
    {
     "name": "stdout",
     "output_type": "stream",
     "text": [
      "(14,)\n"
     ]
    }
   ],
   "source": [
    "#print(X_train.shape)\n",
    "print(y_train.shape)"
   ]
  },
  {
   "cell_type": "code",
   "execution_count": 23,
   "id": "b117d8e6",
   "metadata": {},
   "outputs": [
    {
     "name": "stdout",
     "output_type": "stream",
     "text": [
      "Accuracy =  100.0\n",
      "              precision    recall  f1-score   support\n",
      "\n",
      "           1       1.00      1.00      1.00         3\n",
      "           2       1.00      1.00      1.00         1\n",
      "\n",
      "    accuracy                           1.00         4\n",
      "   macro avg       1.00      1.00      1.00         4\n",
      "weighted avg       1.00      1.00      1.00         4\n",
      "\n"
     ]
    }
   ],
   "source": [
    "#for i in range(1,101):\n",
    "#    X_train, X_test, y_train, y_test = train_test_split(X, y_label, test_size = 0.20,random_state=i)\n",
    "svc = SVC(kernel='rbf', gamma = 0.1, C=1.7)\n",
    "svc.fit(X_train, y_train)\n",
    "y_pred = svc.predict(X_test )\n",
    "y_true = y_test\n",
    "#    print(\"i = \",i,\"acc = \",metrics.accuracy_score(y_test, y_pred))\n",
    "print(\"Accuracy = \",metrics.accuracy_score(y_test, y_pred)*100)\n",
    "print(classification_report(y_true,y_pred))"
   ]
  },
  {
   "cell_type": "code",
   "execution_count": 24,
   "id": "86201435",
   "metadata": {},
   "outputs": [
    {
     "name": "stdout",
     "output_type": "stream",
     "text": [
      "880\n",
      "4\n",
      "4\n"
     ]
    }
   ],
   "source": [
    "print(X_test.size)\n",
    "print(y_pred.size)\n",
    "#print(X_test.size)\n",
    "print(y_true.size)\n",
    "#print(y_true[0:1080])"
   ]
  },
  {
   "cell_type": "code",
   "execution_count": 25,
   "id": "7492b321",
   "metadata": {},
   "outputs": [],
   "source": [
    "gnn_ensemble = np.empty(shape = (y_pred.shape))\n",
    "for i in range(len(y_pred)):\n",
    "    if(y_pred[i]==y_true[i]):\n",
    "        gnn_ensemble[i]=1\n",
    "    else:\n",
    "        gnn_ensemble[i]=0"
   ]
  },
  {
   "cell_type": "code",
   "execution_count": 26,
   "id": "fa2c2d2e",
   "metadata": {},
   "outputs": [
    {
     "data": {
      "text/plain": [
       "array([1., 1., 1., 1.])"
      ]
     },
     "execution_count": 26,
     "metadata": {},
     "output_type": "execute_result"
    }
   ],
   "source": [
    "gnn_ensemble"
   ]
  },
  {
   "cell_type": "code",
   "execution_count": 27,
   "id": "55eb5117",
   "metadata": {},
   "outputs": [
    {
     "data": {
      "text/plain": [
       "VotingClassifier(estimators=[('rf',\n",
       "                              RandomForestClassifier(n_estimators=5,\n",
       "                                                     random_state=54)),\n",
       "                             ('gb',\n",
       "                              GradientBoostingClassifier(random_state=54)),\n",
       "                             ('dt', DecisionTreeClassifier(random_state=54))])"
      ]
     },
     "execution_count": 27,
     "metadata": {},
     "output_type": "execute_result"
    }
   ],
   "source": [
    "from sklearn.ensemble import RandomForestClassifier\n",
    "from sklearn.ensemble import GradientBoostingClassifier\n",
    "from sklearn.ensemble import VotingClassifier\n",
    "from sklearn.tree import DecisionTreeClassifier\n",
    "from sklearn.ensemble import AdaBoostClassifier\n",
    "from sklearn.neighbors import KNeighborsClassifier\n",
    "\n",
    "rf = RandomForestClassifier(n_estimators=5, random_state=54)\n",
    "gb = GradientBoostingClassifier(random_state=54)\n",
    "dt = DecisionTreeClassifier(random_state=54)\n",
    "abc = AdaBoostClassifier(n_estimators=50,learning_rate=1)\n",
    "neigh = KNeighborsClassifier(n_neighbors=3)\n",
    "clf = VotingClassifier(estimators=[(\"rf\", rf), (\"gb\", gb), (\"dt\", dt)], voting=\"hard\")\n",
    "clf.fit(X_train, y_train)"
   ]
  },
  {
   "cell_type": "code",
   "execution_count": 28,
   "id": "2df8c676",
   "metadata": {},
   "outputs": [
    {
     "name": "stdout",
     "output_type": "stream",
     "text": [
      "DT Accuracy: 1.0\n"
     ]
    }
   ],
   "source": [
    "#print(X_train)\n",
    "#print(y_train)\n",
    "dt.fit(X_train, y_train)\n",
    "y_pred = dt.predict(X_test)\n",
    "accuracy = np.mean(y_pred==y_test)\n",
    "print(\"DT Accuracy:\", accuracy)"
   ]
  },
  {
   "cell_type": "code",
   "execution_count": 29,
   "id": "fe8d5ece",
   "metadata": {},
   "outputs": [
    {
     "name": "stdout",
     "output_type": "stream",
     "text": [
      "GB Accuracy: 1.0\n"
     ]
    }
   ],
   "source": [
    "gb.fit(X_train, y_train)\n",
    "y_pred = gb.predict(X_test)\n",
    "accuracy = np.mean(y_pred==y_test)\n",
    "print(\"GB Accuracy:\", accuracy)"
   ]
  },
  {
   "cell_type": "code",
   "execution_count": 30,
   "id": "84f1bf5f",
   "metadata": {},
   "outputs": [
    {
     "name": "stdout",
     "output_type": "stream",
     "text": [
      "RF Accuracy: 0.75\n"
     ]
    }
   ],
   "source": [
    "rf.fit(X_train, y_train)\n",
    "y_pred = rf.predict(X_test)\n",
    "accuracy = np.mean(y_pred==y_test)\n",
    "print(\"RF Accuracy:\", accuracy)"
   ]
  },
  {
   "cell_type": "code",
   "execution_count": 31,
   "id": "87333501",
   "metadata": {},
   "outputs": [
    {
     "name": "stdout",
     "output_type": "stream",
     "text": [
      "AdaBoost Accuracy: 1.0\n"
     ]
    }
   ],
   "source": [
    "model = abc.fit(X_train, y_train)\n",
    "y_pred = model.predict(X_test)\n",
    "accuracy = np.mean(y_pred==y_test)\n",
    "print(\"AdaBoost Accuracy:\", accuracy)"
   ]
  },
  {
   "cell_type": "code",
   "execution_count": 32,
   "id": "22dc90cd",
   "metadata": {},
   "outputs": [
    {
     "name": "stdout",
     "output_type": "stream",
     "text": [
      "KNeighbors Accuracy: 1.0\n"
     ]
    }
   ],
   "source": [
    "model = neigh.fit(X_train, y_train)\n",
    "y_pred = model.predict(X_test)\n",
    "accuracy = np.mean(y_pred==y_test)\n",
    "print(\"KNeighbors Accuracy:\", accuracy)"
   ]
  },
  {
   "cell_type": "code",
   "execution_count": 33,
   "id": "f06e5776",
   "metadata": {},
   "outputs": [
    {
     "name": "stdout",
     "output_type": "stream",
     "text": [
      "Accuracy: 1.0\n"
     ]
    }
   ],
   "source": [
    "from sklearn.metrics import recall_score, precision_score, f1_score\n",
    "y_pred = clf.predict(X_test)\n",
    "accuracy = np.mean(y_pred==y_test)\n",
    "print(\"Accuracy:\", accuracy)"
   ]
  },
  {
   "cell_type": "code",
   "execution_count": 34,
   "id": "4a05285d",
   "metadata": {},
   "outputs": [
    {
     "name": "stdout",
     "output_type": "stream",
     "text": [
      "['EDK' 'KCK' 'KAK' 'KFK' 'KAK']\n",
      "270\n"
     ]
    }
   ],
   "source": [
    "maxlen_seq = 4\n",
    "input_seqs, target_seqs = df[['seq', 'sst3']][(df.len <= maxlen_seq) & (~df.has_nonstd_aa)].values.T\n",
    "#input_grams = seq2ngrams(input_seqs)\n",
    "print(input_seqs[0:5])\n",
    "print(input_seqs.size)"
   ]
  },
  {
   "cell_type": "code",
   "execution_count": 35,
   "id": "65016e27",
   "metadata": {},
   "outputs": [],
   "source": [
    "def seq2ngrams(seqs, n=2):\n",
    "    return np.array([[seq[i:i+n] for i in range(len(seq))] for seq in seqs])"
   ]
  },
  {
   "cell_type": "code",
   "execution_count": 36,
   "id": "2247b487",
   "metadata": {},
   "outputs": [
    {
     "name": "stderr",
     "output_type": "stream",
     "text": [
      "C:\\Users\\User\\AppData\\Local\\Temp\\ipykernel_6820\\2877315036.py:2: VisibleDeprecationWarning: Creating an ndarray from ragged nested sequences (which is a list-or-tuple of lists-or-tuples-or ndarrays with different lengths or shapes) is deprecated. If you meant to do this, you must specify 'dtype=object' when creating the ndarray.\n",
      "  return np.array([[seq[i:i+n] for i in range(len(seq))] for seq in seqs])\n"
     ]
    }
   ],
   "source": [
    "input_grams = seq2ngrams(input_seqs)"
   ]
  },
  {
   "cell_type": "code",
   "execution_count": 37,
   "id": "bf97e5ae",
   "metadata": {},
   "outputs": [
    {
     "name": "stdout",
     "output_type": "stream",
     "text": [
      "EDK\n",
      "CEC\n",
      "['ED', 'DK', 'K']\n"
     ]
    }
   ],
   "source": [
    "print(input_seqs[0])\n",
    "print(target_seqs[0])\n",
    "print(input_grams[0])"
   ]
  },
  {
   "cell_type": "code",
   "execution_count": 38,
   "id": "dba76b78",
   "metadata": {},
   "outputs": [
    {
     "name": "stdout",
     "output_type": "stream",
     "text": [
      "[108, 71, 5]\n",
      "[108  71   5   0]\n",
      "CEC\n",
      "CEC\n",
      "[1, 2, 1]\n",
      "[1, 2, 1]\n",
      "[1 2 1 0]\n",
      "[1 2 1 0]\n",
      "(270, 4) (270, 4, 3)\n",
      "[108  71   5   0]\n",
      "[[0. 1. 0.]\n",
      " [0. 0. 1.]\n",
      " [0. 1. 0.]\n",
      " [1. 0. 0.]]\n"
     ]
    }
   ],
   "source": [
    "from tensorflow.keras.preprocessing import text, sequence\n",
    "from tensorflow.keras.preprocessing.text import Tokenizer\n",
    "from tensorflow.keras.utils import to_categorical\n",
    "\n",
    "tokenizer_encoder = Tokenizer()\n",
    "tokenizer_encoder.fit_on_texts(input_grams)\n",
    "input_data = tokenizer_encoder.texts_to_sequences(input_grams)\n",
    "print(input_data[0])\n",
    "input_data = sequence.pad_sequences(input_data, maxlen=maxlen_seq, padding='post')\n",
    "print(input_data[0])\n",
    "#input_data = to_categorical(input_data)\n",
    "\n",
    "tokenizer_decoder = Tokenizer(char_level=True)\n",
    "tokenizer_decoder.fit_on_texts(target_seqs)\n",
    "#print(tokenizer_decoder.fit_on_texts(target_seqs))\n",
    "print(target_seqs[0])\n",
    "print(target_seqs[1])\n",
    "target_data = tokenizer_decoder.texts_to_sequences(target_seqs)\n",
    "print(target_data[0])\n",
    "print(target_data[1])\n",
    "target_data = sequence.pad_sequences(target_data, maxlen=maxlen_seq, padding='post')\n",
    "print(target_data[0])\n",
    "print(target_data[1])\n",
    "target_data = to_categorical(target_data)\n",
    "\n",
    "print(input_data.shape, target_data.shape)\n",
    "#print(input_data.size)\n",
    "#print(target_data.size)\n",
    "#print(input_data)\n",
    "#print(target_data)\n",
    "print(input_data[0])\n",
    "print(target_data[0])"
   ]
  },
  {
   "cell_type": "code",
   "execution_count": 39,
   "id": "27ad7322",
   "metadata": {},
   "outputs": [
    {
     "name": "stdout",
     "output_type": "stream",
     "text": [
      "(270,)\n",
      "KCK CEC\n",
      "(270, 4)\n",
      "[109 110   5   0] [[0. 1. 0.]\n",
      " [0. 0. 1.]\n",
      " [0. 1. 0.]\n",
      " [1. 0. 0.]]\n"
     ]
    }
   ],
   "source": [
    "print(input_seqs.shape)\n",
    "print(input_seqs[1], target_seqs[1])\n",
    "print(input_data.shape)\n",
    "print(input_data[1], target_data[1])"
   ]
  },
  {
   "cell_type": "code",
   "execution_count": 40,
   "id": "120e19c8",
   "metadata": {},
   "outputs": [
    {
     "name": "stdout",
     "output_type": "stream",
     "text": [
      "EDK\n",
      "CEC\n",
      "[108  71   5   0]\n",
      "[[0. 1. 0.]\n",
      " [0. 0. 1.]\n",
      " [0. 1. 0.]\n",
      " [1. 0. 0.]]\n"
     ]
    }
   ],
   "source": [
    "print(input_seqs[0])\n",
    "print(target_seqs[0])\n",
    "print(input_data[0])\n",
    "print(target_data[0])"
   ]
  },
  {
   "cell_type": "code",
   "execution_count": 41,
   "id": "53f8fab7",
   "metadata": {},
   "outputs": [
    {
     "name": "stdout",
     "output_type": "stream",
     "text": [
      "{'aa': 1, 'a': 2, 'rp': 3, 'p': 4, 'k': 5, 'pr': 6, 'hr': 7, 'gh': 8, 'r': 9, 'ka': 10, 'f': 11, 's': 12, 'gp': 13, 'v': 14, 'fp': 15, 'l': 16, 'kg': 17, 'ma': 18, 'ga': 19, 'ak': 20, 'as': 21, 'rv': 22, 'we': 23, 'ee': 24, 'el': 25, 'e': 26, 'av': 27, 'vp': 28, 'w': 29, 'll': 30, 'ge': 31, 'i': 32, 'ar': 33, 'lf': 34, 'rk': 35, 'ia': 36, 'kk': 37, 'sr': 38, 'y': 39, 'vr': 40, 'is': 41, 'se': 42, 'ev': 43, 'gl': 44, 'g': 45, 'pf': 46, 'gk': 47, 'ag': 48, 'lt': 49, 't': 50, 'pg': 51, 'kf': 52, 'kp': 53, 'kn': 54, 'vk': 55, 'kl': 56, 'ap': 57, 'ek': 58, 'ai': 59, 'la': 60, 'ie': 61, 'pi': 62, 'qe': 63, 'ti': 64, 'fg': 65, 'et': 66, 'at': 67, 'ta': 68, 'lv': 69, 'ps': 70, 'dk': 71, 'fk': 72, 'ki': 73, 'sk': 74, 'tk': 75, 'kv': 76, 'lk': 77, 'kw': 78, 'nl': 79, 'rs': 80, 'ra': 81, 'ql': 82, 'qi': 83, 'ii': 84, 'aw': 85, 'vy': 86, 'ts': 87, 'al': 88, 'pw': 89, 'vs': 90, 'td': 91, 'd': 92, 'tv': 93, 'pv': 94, 'rr': 95, 'sd': 96, 'de': 97, 'ef': 98, 'sq': 99, 'ey': 100, 'pq': 101, 'qt': 102, 'vv': 103, 'vn': 104, 'n': 105, 'ss': 106, 'st': 107, 'ed': 108, 'kc': 109, 'ck': 110, 'km': 111, 'mk': 112, 'kh': 113, 'hk': 114, 'ik': 115, 'pk': 116, 'kd': 117, 'ks': 118, 'kt': 119, 'ky': 120, 'yk': 121, 'nk': 122, 'kq': 123, 'qk': 124, 'ke': 125, 'wk': 126, 'en': 127, 'nw': 128, 'eq': 129, 'qw': 130, 'ml': 131, 'kr': 132, 'ih': 133, 'h': 134, 'eg': 135, 'gr': 136, 'yr': 137, 'rf': 138, 'yq': 139, 'qf': 140, 'dv': 141, 'va': 142, 'ei': 143, 'li': 144, 'gv': 145, 'ay': 146, 've': 147, 'ep': 148, 'lq': 149, 'es': 150, 'it': 151, 'gs': 152, 'sn': 153, 'ns': 154, 'ld': 155, 'dp': 156, 'fl': 157, 'le': 158, 'ae': 159, 'tf': 160, 'wy': 161, 'yt': 162, 'tr': 163, 'da': 164, 'iy': 165, 'ea': 166, 'af': 167, 'ft': 168, 'ri': 169, 'if': 170, 'fs': 171, 'rt': 172, 'pa': 173, 'dq': 174, 'sv': 175, 'am': 176, 'mr': 177, 'dr': 178, 'ls': 179, 'pt': 180, 'tl': 181, 'ph': 182, 'rw': 183, 'lw': 184}\n",
      "Tokenizer decoder result\n",
      "{'c': 1, 'e': 2}\n",
      "185 3\n",
      "Model: \"model\"\n",
      "_________________________________________________________________\n",
      " Layer (type)                Output Shape              Param #   \n",
      "=================================================================\n",
      " input_1 (InputLayer)        [(None, 4)]               0         \n",
      "                                                                 \n",
      " embedding (Embedding)       (None, 4, 256)            47360     \n",
      "                                                                 \n",
      " bidirectional (Bidirectiona  (None, 4, 128)           164352    \n",
      " l)                                                              \n",
      "                                                                 \n",
      " sequential (Sequential)     (None, 4, 64)             8256      \n",
      "                                                                 \n",
      " dense_1 (Dense)             (None, 4, 128)            8320      \n",
      "                                                                 \n",
      " dense_2 (Dense)             (None, 4, 64)             8256      \n",
      "                                                                 \n",
      " time_distributed (TimeDistr  (None, 4, 3)             195       \n",
      " ibuted)                                                         \n",
      "                                                                 \n",
      "=================================================================\n",
      "Total params: 236,739\n",
      "Trainable params: 236,739\n",
      "Non-trainable params: 0\n",
      "_________________________________________________________________\n"
     ]
    }
   ],
   "source": [
    "from tensorflow.keras.models import Model\n",
    "from tensorflow.keras.layers import Input\n",
    "from tensorflow.keras.layers import Embedding, Dense, TimeDistributed, Bidirectional, Conv1D, Flatten, LSTM\n",
    "from tensorflow.keras.models import Sequential\n",
    "\n",
    "n_words = len(tokenizer_encoder.word_index) + 1\n",
    "n_tags = len(tokenizer_decoder.word_index) + 1\n",
    "print(tokenizer_encoder.word_index)\n",
    "print(\"Tokenizer decoder result\")\n",
    "print(tokenizer_decoder.word_index)\n",
    "print(n_words, n_tags)\n",
    "\n",
    "input = Input(shape=(maxlen_seq,))\n",
    "x = Embedding(input_dim=n_words, output_dim=256, input_length=maxlen_seq)(input)\n",
    "#x = Bidirectional(LSTM(units=64, return_sequences=True, recurrent_dropout=0.1))(x)\n",
    "x = Bidirectional(LSTM(units=64, return_sequences=True, recurrent_dropout=0.2))(x)\n",
    "#x = LSTM(units=64, return_sequences=True, recurrent_dropout=0.1)(x)\n",
    "x = Sequential(Dense(units=64))(x)\n",
    "#r = (Flatten())(x)\n",
    "p = (Dense(128, activation=\"relu\"))(x)\n",
    "y = (Dense(64, activation=\"relu\"))(p)\n",
    "z = TimeDistributed(Dense(n_tags, activation=\"softmax\"))(y)\n",
    "model = Model(input, z)\n",
    "model.summary()"
   ]
  },
  {
   "cell_type": "code",
   "execution_count": 42,
   "id": "a39d1e83",
   "metadata": {},
   "outputs": [
    {
     "name": "stdout",
     "output_type": "stream",
     "text": [
      "Epoch 1/20\n",
      "4/4 [==============================] - 14s 608ms/step - loss: 1.0441 - accuracy: 0.5590 - q3_acc: 0.6191 - val_loss: 0.8488 - val_accuracy: 0.6111 - val_q3_acc: 0.6650\n",
      "Epoch 2/20\n",
      "4/4 [==============================] - 0s 58ms/step - loss: 0.7822 - accuracy: 0.6620 - q3_acc: 0.6662 - val_loss: 0.6566 - val_accuracy: 0.6944 - val_q3_acc: 0.6650\n",
      "Epoch 3/20\n",
      "4/4 [==============================] - 0s 53ms/step - loss: 0.6065 - accuracy: 0.7049 - q3_acc: 0.6662 - val_loss: 0.5278 - val_accuracy: 0.7176 - val_q3_acc: 0.6904\n",
      "Epoch 4/20\n",
      "4/4 [==============================] - 0s 53ms/step - loss: 0.4838 - accuracy: 0.7662 - q3_acc: 0.7356 - val_loss: 0.4310 - val_accuracy: 0.8935 - val_q3_acc: 0.8832\n",
      "Epoch 5/20\n",
      "4/4 [==============================] - 0s 55ms/step - loss: 0.3568 - accuracy: 0.8785 - q3_acc: 0.8626 - val_loss: 0.4161 - val_accuracy: 0.8796 - val_q3_acc: 0.8680\n",
      "Epoch 6/20\n",
      "4/4 [==============================] - 0s 57ms/step - loss: 0.2627 - accuracy: 0.9363 - q3_acc: 0.9280 - val_loss: 0.2314 - val_accuracy: 0.9259 - val_q3_acc: 0.9188\n",
      "Epoch 7/20\n",
      "4/4 [==============================] - 0s 56ms/step - loss: 0.1525 - accuracy: 0.9734 - q3_acc: 0.9699 - val_loss: 0.2080 - val_accuracy: 0.8981 - val_q3_acc: 0.8883\n",
      "Epoch 8/20\n",
      "4/4 [==============================] - 0s 58ms/step - loss: 0.1501 - accuracy: 0.9549 - q3_acc: 0.9490 - val_loss: 0.1875 - val_accuracy: 0.9306 - val_q3_acc: 0.9239\n",
      "Epoch 9/20\n",
      "4/4 [==============================] - 0s 54ms/step - loss: 0.0809 - accuracy: 0.9769 - q3_acc: 0.9738 - val_loss: 0.1796 - val_accuracy: 0.9352 - val_q3_acc: 0.9289\n",
      "Epoch 10/20\n",
      "4/4 [==============================] - 0s 55ms/step - loss: 0.0663 - accuracy: 0.9826 - q3_acc: 0.9804 - val_loss: 0.1857 - val_accuracy: 0.9352 - val_q3_acc: 0.9289\n",
      "Epoch 11/20\n",
      "4/4 [==============================] - 0s 54ms/step - loss: 0.0463 - accuracy: 0.9873 - q3_acc: 0.9856 - val_loss: 0.2336 - val_accuracy: 0.9259 - val_q3_acc: 0.9188\n",
      "Epoch 12/20\n",
      "4/4 [==============================] - 0s 54ms/step - loss: 0.0828 - accuracy: 0.9641 - q3_acc: 0.9594 - val_loss: 0.2158 - val_accuracy: 0.9213 - val_q3_acc: 0.9137\n",
      "Epoch 13/20\n",
      "4/4 [==============================] - 0s 55ms/step - loss: 0.0355 - accuracy: 0.9884 - q3_acc: 0.9869 - val_loss: 0.2396 - val_accuracy: 0.9213 - val_q3_acc: 0.9137\n",
      "Epoch 14/20\n",
      "4/4 [==============================] - 0s 55ms/step - loss: 0.0392 - accuracy: 0.9850 - q3_acc: 0.9830 - val_loss: 0.2306 - val_accuracy: 0.9306 - val_q3_acc: 0.9239\n",
      "Epoch 15/20\n",
      "4/4 [==============================] - 0s 54ms/step - loss: 0.0275 - accuracy: 0.9896 - q3_acc: 0.9882 - val_loss: 0.2294 - val_accuracy: 0.9352 - val_q3_acc: 0.9289\n",
      "Epoch 16/20\n",
      "4/4 [==============================] - 0s 55ms/step - loss: 0.0221 - accuracy: 0.9931 - q3_acc: 0.9921 - val_loss: 0.2528 - val_accuracy: 0.9259 - val_q3_acc: 0.9188\n",
      "Epoch 17/20\n",
      "4/4 [==============================] - 0s 55ms/step - loss: 0.0312 - accuracy: 0.9884 - q3_acc: 0.9869 - val_loss: 0.3755 - val_accuracy: 0.9259 - val_q3_acc: 0.9188\n",
      "Epoch 18/20\n",
      "4/4 [==============================] - 0s 57ms/step - loss: 0.0886 - accuracy: 0.9688 - q3_acc: 0.9647 - val_loss: 0.2494 - val_accuracy: 0.9352 - val_q3_acc: 0.9289\n",
      "Epoch 19/20\n",
      "4/4 [==============================] - 0s 58ms/step - loss: 0.0169 - accuracy: 0.9919 - q3_acc: 0.9908 - val_loss: 0.2586 - val_accuracy: 0.9352 - val_q3_acc: 0.9289\n",
      "Epoch 20/20\n",
      "4/4 [==============================] - 0s 57ms/step - loss: 0.0153 - accuracy: 0.9954 - q3_acc: 0.9948 - val_loss: 0.2704 - val_accuracy: 0.9352 - val_q3_acc: 0.9289\n"
     ]
    }
   ],
   "source": [
    "from sklearn.model_selection import train_test_split\n",
    "from keras.metrics import categorical_accuracy\n",
    "from tensorflow.keras.models import Sequential\n",
    "from tensorflow.keras.layers import Dense\n",
    "import matplotlib.pyplot as plt\n",
    "import numpy as np\n",
    "from keras import backend  as K\n",
    "import tensorflow as tf\n",
    "\n",
    "#model = m\n",
    "\n",
    "def q3_acc(y_true, y_pred):\n",
    "    y = tf.argmax(y_true, axis=-1)\n",
    "    y_ = tf.argmax(y_pred, axis=-1)\n",
    "    mask = tf.greater(y, 0)\n",
    "    return K.cast(K.equal(tf.boolean_mask(y, mask), tf.boolean_mask(y_, mask)), K.floatx())\n",
    "\n",
    "model.compile(optimizer=\"rmsprop\", loss=\"categorical_crossentropy\", metrics=[\"accuracy\", q3_acc])\n",
    "\n",
    "X_train, X_test, y_train, y_test = train_test_split(input_data, target_data, test_size=.2, random_state=54)\n",
    "seq_train, seq_test, target_train, target_test = train_test_split(input_seqs, target_seqs, test_size=.2, random_state=54)\n",
    "\n",
    "history=model.fit(X_train, y_train, batch_size=64, epochs=20, validation_data=(X_test, y_test), verbose=1)"
   ]
  },
  {
   "cell_type": "code",
   "execution_count": 43,
   "id": "db077adb",
   "metadata": {},
   "outputs": [
    {
     "data": {
      "image/png": "[encoded data removed]",
      "text/plain": [
       "<Figure size 640x480 with 1 Axes>"
      ]
     },
     "metadata": {},
     "output_type": "display_data"
    },
    {
     "data": {
      "image/png": "[encoded data removed]",
      "text/plain": [
       "<Figure size 640x480 with 1 Axes>"
      ]
     },
     "metadata": {},
     "output_type": "display_data"
    }
   ],
   "source": [
    "# summarize history for accuracy\n",
    "plt.plot(history.history['q3_acc'])\n",
    "plt.plot(history.history['val_q3_acc'])\n",
    "plt.title('Model Accuracy')\n",
    "plt.ylabel('Accuracy')\n",
    "plt.xlabel('Epoch')\n",
    "plt.legend(['Train', 'Validation'], loc='upper left')\n",
    "plt.show()\n",
    "# summarize history for loss\n",
    "plt.plot(history.history['loss'])\n",
    "plt.plot(history.history['val_loss'])\n",
    "plt.title('Model Loss')\n",
    "plt.ylabel('Loss')\n",
    "plt.xlabel('Epoch')\n",
    "plt.legend(['Train', 'Validation'], loc='upper left')\n",
    "plt.show()"
   ]
  },
  {
   "cell_type": "code",
   "execution_count": 44,
   "id": "34ccdb0f",
   "metadata": {},
   "outputs": [
    {
     "name": "stdout",
     "output_type": "stream",
     "text": [
      "4\n",
      "4\n"
     ]
    }
   ],
   "source": [
    "#print(X_test.size)\n",
    "print(y_pred.size)\n",
    "print(y_true.size)"
   ]
  },
  {
   "cell_type": "code",
   "execution_count": 45,
   "id": "176da8d6",
   "metadata": {},
   "outputs": [],
   "source": [
    "bilstm_ensemble = np.empty(shape = (y_pred.shape))\n",
    "for i in range(len(y_pred)):\n",
    "    if(y_pred[i]==y_true[i]):\n",
    "        bilstm_ensemble[i]=1\n",
    "    else:\n",
    "        bilstm_ensemble[i]=0"
   ]
  },
  {
   "cell_type": "code",
   "execution_count": 46,
   "id": "d28f76d3",
   "metadata": {},
   "outputs": [
    {
     "data": {
      "text/plain": [
       "array([1., 1., 1., 1.])"
      ]
     },
     "execution_count": 46,
     "metadata": {},
     "output_type": "execute_result"
    }
   ],
   "source": [
    "bilstm_ensemble"
   ]
  },
  {
   "cell_type": "code",
   "execution_count": 47,
   "id": "87ba4bb2",
   "metadata": {},
   "outputs": [
    {
     "name": "stdout",
     "output_type": "stream",
     "text": [
      "              precision    recall  f1-score   support\n",
      "\n",
      "           1       1.00      1.00      1.00         3\n",
      "           2       1.00      1.00      1.00         1\n",
      "\n",
      "    accuracy                           1.00         4\n",
      "   macro avg       1.00      1.00      1.00         4\n",
      "weighted avg       1.00      1.00      1.00         4\n",
      "\n"
     ]
    }
   ],
   "source": [
    "print(classification_report(y_true,y_pred))"
   ]
  },
  {
   "cell_type": "code",
   "execution_count": 48,
   "id": "778253c6",
   "metadata": {},
   "outputs": [
    {
     "name": "stdout",
     "output_type": "stream",
     "text": [
      "185 3\n",
      "Model: \"model_1\"\n",
      "_________________________________________________________________\n",
      " Layer (type)                Output Shape              Param #   \n",
      "=================================================================\n",
      " input_2 (InputLayer)        [(None, 4)]               0         \n",
      "                                                                 \n",
      " embedding_1 (Embedding)     (None, 4, 256)            47360     \n",
      "                                                                 \n",
      " lstm_1 (LSTM)               (None, 4, 64)             82176     \n",
      "                                                                 \n",
      " sequential_1 (Sequential)   (None, 4, 64)             4160      \n",
      "                                                                 \n",
      " dense_5 (Dense)             (None, 4, 128)            8320      \n",
      "                                                                 \n",
      " dense_6 (Dense)             (None, 4, 64)             8256      \n",
      "                                                                 \n",
      " time_distributed_1 (TimeDis  (None, 4, 3)             195       \n",
      " tributed)                                                       \n",
      "                                                                 \n",
      "=================================================================\n",
      "Total params: 150,467\n",
      "Trainable params: 150,467\n",
      "Non-trainable params: 0\n",
      "_________________________________________________________________\n"
     ]
    }
   ],
   "source": [
    "from keras.models import Model\n",
    "from tensorflow.keras.layers import Input\n",
    "from keras.layers import Embedding, Dense, TimeDistributed, Bidirectional, Conv1D, Flatten, LSTM\n",
    "from keras.models import Sequential\n",
    "\n",
    "n_words = len(tokenizer_encoder.word_index) + 1\n",
    "n_tags = len(tokenizer_decoder.word_index) + 1\n",
    "print(n_words, n_tags)\n",
    "\n",
    "input = Input(shape=(maxlen_seq,))\n",
    "x = Embedding(input_dim=n_words, output_dim=256, input_length=maxlen_seq)(input)\n",
    "#x = Bidirectional(LSTM(units=64, return_sequences=True, recurrent_dropout=0.1))(x)\n",
    "x = LSTM(units=64, return_sequences=True, recurrent_dropout=0.1)(x)\n",
    "x = Sequential(Dense(units=64))(x)\n",
    "#r = (Flatten())(x)\n",
    "p = (Dense(128, activation=\"relu\"))(x)\n",
    "y = (Dense(64, activation=\"relu\"))(p)\n",
    "z = TimeDistributed(Dense(n_tags, activation=\"softmax\"))(y)\n",
    "model = Model(input, z)\n",
    "model.summary()"
   ]
  },
  {
   "cell_type": "code",
   "execution_count": 49,
   "id": "851de3aa",
   "metadata": {},
   "outputs": [
    {
     "name": "stdout",
     "output_type": "stream",
     "text": [
      "Epoch 1/20\n",
      "4/4 [==============================] - 9s 503ms/step - loss: 1.0702 - accuracy: 0.4780 - q3_acc: 0.4987 - val_loss: 0.9610 - val_accuracy: 0.6944 - val_q3_acc: 0.6650\n",
      "Epoch 2/20\n",
      "4/4 [==============================] - 0s 44ms/step - loss: 0.8912 - accuracy: 0.6933 - q3_acc: 0.6662 - val_loss: 0.7325 - val_accuracy: 0.6944 - val_q3_acc: 0.6650\n",
      "Epoch 3/20\n",
      "4/4 [==============================] - 0s 44ms/step - loss: 0.6694 - accuracy: 0.7049 - q3_acc: 0.6662 - val_loss: 0.5817 - val_accuracy: 0.6944 - val_q3_acc: 0.6650\n",
      "Epoch 4/20\n",
      "4/4 [==============================] - 0s 48ms/step - loss: 0.5192 - accuracy: 0.7199 - q3_acc: 0.6832 - val_loss: 0.4603 - val_accuracy: 0.7315 - val_q3_acc: 0.7056\n",
      "Epoch 5/20\n",
      "4/4 [==============================] - 0s 42ms/step - loss: 0.3903 - accuracy: 0.8414 - q3_acc: 0.8207 - val_loss: 0.3627 - val_accuracy: 0.8287 - val_q3_acc: 0.8122\n",
      "Epoch 6/20\n",
      "4/4 [==============================] - 0s 42ms/step - loss: 0.2909 - accuracy: 0.8900 - q3_acc: 0.8757 - val_loss: 0.2868 - val_accuracy: 0.8750 - val_q3_acc: 0.8629\n",
      "Epoch 7/20\n",
      "4/4 [==============================] - 0s 42ms/step - loss: 0.2065 - accuracy: 0.9259 - q3_acc: 0.9162 - val_loss: 0.2427 - val_accuracy: 0.9167 - val_q3_acc: 0.9086\n",
      "Epoch 8/20\n",
      "4/4 [==============================] - 0s 39ms/step - loss: 0.1498 - accuracy: 0.9502 - q3_acc: 0.9437 - val_loss: 0.2546 - val_accuracy: 0.8935 - val_q3_acc: 0.8832\n",
      "Epoch 9/20\n",
      "4/4 [==============================] - 0s 42ms/step - loss: 0.1286 - accuracy: 0.9560 - q3_acc: 0.9503 - val_loss: 0.3018 - val_accuracy: 0.8843 - val_q3_acc: 0.8731\n",
      "Epoch 10/20\n",
      "4/4 [==============================] - 0s 42ms/step - loss: 0.1242 - accuracy: 0.9514 - q3_acc: 0.9450 - val_loss: 0.2203 - val_accuracy: 0.9259 - val_q3_acc: 0.9188\n",
      "Epoch 11/20\n",
      "4/4 [==============================] - 0s 42ms/step - loss: 0.0931 - accuracy: 0.9711 - q3_acc: 0.9673 - val_loss: 0.2082 - val_accuracy: 0.9306 - val_q3_acc: 0.9239\n",
      "Epoch 12/20\n",
      "4/4 [==============================] - 0s 36ms/step - loss: 0.0834 - accuracy: 0.9711 - q3_acc: 0.9673 - val_loss: 0.2535 - val_accuracy: 0.9306 - val_q3_acc: 0.9239\n",
      "Epoch 13/20\n",
      "4/4 [==============================] - 0s 48ms/step - loss: 0.0915 - accuracy: 0.9688 - q3_acc: 0.9647 - val_loss: 0.2111 - val_accuracy: 0.9306 - val_q3_acc: 0.9239\n",
      "Epoch 14/20\n",
      "4/4 [==============================] - 0s 43ms/step - loss: 0.0693 - accuracy: 0.9734 - q3_acc: 0.9699 - val_loss: 0.2182 - val_accuracy: 0.9306 - val_q3_acc: 0.9239\n",
      "Epoch 15/20\n",
      "4/4 [==============================] - 0s 42ms/step - loss: 0.0641 - accuracy: 0.9769 - q3_acc: 0.9738 - val_loss: 0.3065 - val_accuracy: 0.9306 - val_q3_acc: 0.9239\n",
      "Epoch 16/20\n",
      "4/4 [==============================] - 0s 44ms/step - loss: 0.0752 - accuracy: 0.9769 - q3_acc: 0.9738 - val_loss: 0.2352 - val_accuracy: 0.9306 - val_q3_acc: 0.9239\n",
      "Epoch 17/20\n",
      "4/4 [==============================] - 0s 49ms/step - loss: 0.0567 - accuracy: 0.9780 - q3_acc: 0.9751 - val_loss: 0.2242 - val_accuracy: 0.9352 - val_q3_acc: 0.9289\n",
      "Epoch 18/20\n",
      "4/4 [==============================] - 0s 55ms/step - loss: 0.0441 - accuracy: 0.9826 - q3_acc: 0.9804 - val_loss: 0.2388 - val_accuracy: 0.9213 - val_q3_acc: 0.9137\n",
      "Epoch 19/20\n",
      "4/4 [==============================] - 0s 56ms/step - loss: 0.0628 - accuracy: 0.9699 - q3_acc: 0.9660 - val_loss: 0.3080 - val_accuracy: 0.9259 - val_q3_acc: 0.9188\n",
      "Epoch 20/20\n",
      "4/4 [==============================] - 0s 47ms/step - loss: 0.0538 - accuracy: 0.9792 - q3_acc: 0.9764 - val_loss: 0.2528 - val_accuracy: 0.9306 - val_q3_acc: 0.9239\n"
     ]
    }
   ],
   "source": [
    "from sklearn.model_selection import train_test_split\n",
    "from keras.metrics import categorical_accuracy\n",
    "from tensorflow.keras.models import Sequential\n",
    "from tensorflow.keras.layers import Dense\n",
    "import matplotlib.pyplot as plt\n",
    "import numpy as np\n",
    "from keras import backend  as K\n",
    "import tensorflow as tf\n",
    "#model = m\n",
    "\n",
    "def q3_acc(y_true, y_pred):\n",
    "    y = tf.argmax(y_true, axis=-1)\n",
    "    y_ = tf.argmax(y_pred, axis=-1)\n",
    "    mask = tf.greater(y, 0)\n",
    "    return K.cast(K.equal(tf.boolean_mask(y, mask), tf.boolean_mask(y_, mask)), K.floatx())\n",
    "\n",
    "model.compile(optimizer=\"rmsprop\", loss=\"categorical_crossentropy\", metrics=[\"accuracy\", q3_acc])\n",
    "\n",
    "X_train, X_test, y_train, y_test = train_test_split(input_data, target_data, test_size=.2, random_state=54)\n",
    "seq_train, seq_test, target_train, target_test = train_test_split(input_seqs, target_seqs, test_size=.2, random_state=54)\n",
    "history=model.fit(X_train, y_train, batch_size=64, epochs=20, validation_data=(X_test, y_test), verbose=1)"
   ]
  },
  {
   "cell_type": "code",
   "execution_count": 50,
   "id": "99d4ae6e",
   "metadata": {},
   "outputs": [
    {
     "data": {
      "image/png": "[encoded data removed]",
      "text/plain": [
       "<Figure size 640x480 with 1 Axes>"
      ]
     },
     "metadata": {},
     "output_type": "display_data"
    },
    {
     "data": {
      "image/png": "[encoded data removed]",
      "text/plain": [
       "<Figure size 640x480 with 1 Axes>"
      ]
     },
     "metadata": {},
     "output_type": "display_data"
    }
   ],
   "source": [
    "# summarize history for accuracy\n",
    "plt.plot(history.history['q3_acc'])\n",
    "plt.plot(history.history['val_q3_acc'])\n",
    "plt.title('Model Accuracy')\n",
    "plt.ylabel('Accuracy')\n",
    "plt.xlabel('Epoch')\n",
    "plt.legend(['Train', 'Validation'], loc='upper left')\n",
    "plt.show()\n",
    "# summarize history for loss\n",
    "plt.plot(history.history['loss'])\n",
    "plt.plot(history.history['val_loss'])\n",
    "plt.title('Model Loss')\n",
    "plt.ylabel('Loss')\n",
    "plt.xlabel('Epoch')\n",
    "plt.legend(['Train', 'Validation'], loc='upper left')\n",
    "plt.show()"
   ]
  },
  {
   "cell_type": "code",
   "execution_count": 51,
   "id": "c85c8aa9",
   "metadata": {},
   "outputs": [
    {
     "name": "stdout",
     "output_type": "stream",
     "text": [
      "4\n",
      "4\n"
     ]
    }
   ],
   "source": [
    "#print(X_test.size)\n",
    "print(y_pred.size)\n",
    "print(y_true.size)"
   ]
  },
  {
   "cell_type": "code",
   "execution_count": 52,
   "id": "cb6aa45e",
   "metadata": {},
   "outputs": [],
   "source": [
    "lstm_ensemble = np.empty(shape = (y_pred.shape))\n",
    "for i in range(len(y_pred)):\n",
    "    if(y_pred[i]==y_true[i]):\n",
    "        lstm_ensemble[i]=1\n",
    "    else:\n",
    "        lstm_ensemble[i]=0"
   ]
  },
  {
   "cell_type": "code",
   "execution_count": 53,
   "id": "38f5fdea",
   "metadata": {},
   "outputs": [
    {
     "data": {
      "text/plain": [
       "array([1., 1., 1., 1.])"
      ]
     },
     "execution_count": 53,
     "metadata": {},
     "output_type": "execute_result"
    }
   ],
   "source": [
    "lstm_ensemble"
   ]
  },
  {
   "cell_type": "code",
   "execution_count": 54,
   "id": "762356bc",
   "metadata": {},
   "outputs": [
    {
     "name": "stdout",
     "output_type": "stream",
     "text": [
      "              precision    recall  f1-score   support\n",
      "\n",
      "           1       1.00      1.00      1.00         3\n",
      "           2       1.00      1.00      1.00         1\n",
      "\n",
      "    accuracy                           1.00         4\n",
      "   macro avg       1.00      1.00      1.00         4\n",
      "weighted avg       1.00      1.00      1.00         4\n",
      "\n"
     ]
    }
   ],
   "source": [
    "print(classification_report(y_true,y_pred))"
   ]
  },
  {
   "cell_type": "code",
   "execution_count": 55,
   "id": "59006fcf",
   "metadata": {},
   "outputs": [],
   "source": [
    "count_true=0\n",
    "count_false=0\n",
    "for i in range(len(y_pred)):\n",
    "    if(gnn_ensemble[i]+bilstm_ensemble[i]+lstm_ensemble[i]>=2):\n",
    "        count_true+=1\n",
    "    else:\n",
    "        count_false+=1"
   ]
  },
  {
   "cell_type": "code",
   "execution_count": 56,
   "id": "f23061c7",
   "metadata": {},
   "outputs": [
    {
     "name": "stdout",
     "output_type": "stream",
     "text": [
      "4\n",
      "0\n"
     ]
    }
   ],
   "source": [
    "print(count_true)\n",
    "print(count_false)"
   ]
  },
  {
   "cell_type": "code",
   "execution_count": 57,
   "id": "1da0e466",
   "metadata": {},
   "outputs": [
    {
     "name": "stdout",
     "output_type": "stream",
     "text": [
      "100.0\n"
     ]
    }
   ],
   "source": [
    "accuracy=((count_true)*100)/(y_pred.size)\n",
    "print(accuracy)"
   ]
  },
  {
   "cell_type": "code",
   "execution_count": 58,
   "id": "520d5313",
   "metadata": {},
   "outputs": [
    {
     "name": "stdout",
     "output_type": "stream",
     "text": [
      "2/2 [==============================] - 1s 0s/step\n"
     ]
    }
   ],
   "source": [
    "y_test_pred = model.predict(X_test)"
   ]
  },
  {
   "cell_type": "code",
   "execution_count": 59,
   "id": "b8234ad7",
   "metadata": {},
   "outputs": [
    {
     "name": "stdout",
     "output_type": "stream",
     "text": [
      "7/7 [==============================] - 0s 10ms/step\n"
     ]
    }
   ],
   "source": [
    "y_train_pred = model.predict(X_train)"
   ]
  },
  {
   "cell_type": "code",
   "execution_count": 60,
   "id": "d0b3969b",
   "metadata": {},
   "outputs": [],
   "source": [
    "def onehot_to_seq(oh_seq, index):\n",
    "    s = ''\n",
    "    for o in oh_seq:\n",
    "        i = np.argmax(o)\n",
    "        if i != 0:\n",
    "            s += index[i]\n",
    "        else:\n",
    "            break\n",
    "    return s"
   ]
  },
  {
   "cell_type": "code",
   "execution_count": 61,
   "id": "a5f7ba71",
   "metadata": {},
   "outputs": [],
   "source": [
    "revsere_decoder_index = {value:key for key,value in tokenizer_decoder.word_index.items()}\n",
    "revsere_encoder_index = {value:key for key,value in tokenizer_encoder.word_index.items()}"
   ]
  },
  {
   "cell_type": "code",
   "execution_count": 62,
   "id": "4d6e894b",
   "metadata": {},
   "outputs": [
    {
     "name": "stdout",
     "output_type": "stream",
     "text": [
      "Training----------------------------\n",
      "Input: RVRK\n",
      "Target: CCEC\n",
      "Result: CCEC\n",
      "\n",
      "Input: LLL\n",
      "Target: CEC\n",
      "Result: CEC\n",
      "\n",
      "Input: FPR\n",
      "Target: CEC\n",
      "Result: CEC\n",
      "\n",
      "Input: ISEV\n",
      "Target: CEEC\n",
      "Result: CEEC\n",
      "\n",
      "Input: LDPR\n",
      "Target: CEEC\n",
      "Result: CEEC\n",
      "\n",
      "Input: FPR\n",
      "Target: CEC\n",
      "Result: CEC\n",
      "\n",
      "Input: FGLF\n",
      "Target: CCEC\n",
      "Result: CCEC\n",
      "\n",
      "Input: FPR\n",
      "Target: CEC\n",
      "Result: CEC\n",
      "\n",
      "Input: GHRP\n",
      "Target: CECC\n",
      "Result: CECC\n",
      "\n",
      "Input: FPR\n",
      "Target: CEC\n",
      "Result: CEC\n",
      "\n",
      "Input: AVPW\n",
      "Target: CEEC\n",
      "Result: CEEC\n",
      "\n",
      "Input: GKGA\n",
      "Target: CCCC\n",
      "Result: CCCC\n",
      "\n",
      "Input: FGLF\n",
      "Target: CCEC\n",
      "Result: CCEC\n",
      "\n",
      "Input: KAA\n",
      "Target: CEC\n",
      "Result: CEC\n",
      "\n",
      "Input: LSRS\n",
      "Target: CEEC\n",
      "Result: CEEC\n",
      "\n",
      "Input: EQW\n",
      "Target: CEC\n",
      "Result: CEC\n",
      "\n",
      "Input: KMK\n",
      "Target: CEC\n",
      "Result: CEC\n",
      "\n",
      "Input: KAA\n",
      "Target: CEC\n",
      "Result: CEC\n",
      "\n",
      "Input: ISEV\n",
      "Target: CEEC\n",
      "Result: CEEC\n",
      "\n",
      "Input: MAS\n",
      "Target: CEC\n",
      "Result: CEC\n",
      "\n",
      "Input: TITS\n",
      "Target: CECC\n",
      "Result: CECC\n",
      "\n",
      "Input: DRVY\n",
      "Target: CCEC\n",
      "Result: CCEC\n",
      "\n",
      "Input: QII\n",
      "Target: CEC\n",
      "Result: CEC\n",
      "\n",
      "Input: YRF\n",
      "Target: CEC\n",
      "Result: CEC\n",
      "\n",
      "Input: GHRP\n",
      "Target: CECC\n",
      "Result: CECC\n",
      "\n",
      "Input: RVRK\n",
      "Target: CCEC\n",
      "Result: CCEC\n",
      "\n",
      "Input: AAAA\n",
      "Target: CCEC\n",
      "Result: CEEC\n",
      "\n",
      "Input: GPRP\n",
      "Target: CECC\n",
      "Result: CECC\n",
      "\n",
      "Input: GPRP\n",
      "Target: CECC\n",
      "Result: CECC\n",
      "\n",
      "Input: AIH\n",
      "Target: CEC\n",
      "Result: CEC\n",
      "\n",
      "Input: SQEY\n",
      "Target: CCEC\n",
      "Result: CCEC\n",
      "\n",
      "Input: ALAL\n",
      "Target: CEEC\n",
      "Result: CEEC\n",
      "\n",
      "Input: AVPF\n",
      "Target: CEEC\n",
      "Result: CEEC\n",
      "\n",
      "Input: AAAA\n",
      "Target: CCEC\n",
      "Result: CEEC\n",
      "\n",
      "Input: PSRV\n",
      "Target: CEEC\n",
      "Result: CEEC\n",
      "\n",
      "Input: GPRP\n",
      "Target: CECC\n",
      "Result: CECC\n",
      "\n",
      "Input: WEEL\n",
      "Target: CEEC\n",
      "Result: CEEC\n",
      "\n",
      "Input: MAS\n",
      "Target: CEC\n",
      "Result: CEC\n",
      "\n",
      "Input: KIAA\n",
      "Target: CECC\n",
      "Result: CCEC\n",
      "\n",
      "Input: AIAV\n",
      "Target: CEEC\n",
      "Result: CEEC\n",
      "\n",
      "Input: KLK\n",
      "Target: CEC\n",
      "Result: CEC\n",
      "\n",
      "Input: GAR\n",
      "Target: CEC\n",
      "Result: CEC\n",
      "\n",
      "Input: EDK\n",
      "Target: CEC\n",
      "Result: CEC\n",
      "\n",
      "Input: SDEF\n",
      "Target: CCEC\n",
      "Result: CCEC\n",
      "\n",
      "Input: KGK\n",
      "Target: CEC\n",
      "Result: CEC\n",
      "\n",
      "Input: FLEK\n",
      "Target: CEEC\n",
      "Result: CEEC\n",
      "\n",
      "Input: PQTA\n",
      "Target: CCEC\n",
      "Result: CCEC\n",
      "\n",
      "Input: WEEL\n",
      "Target: CEEC\n",
      "Result: CEEC\n",
      "\n",
      "Input: KGE\n",
      "Target: CEC\n",
      "Result: CEC\n",
      "\n",
      "Input: LVVN\n",
      "Target: CECC\n",
      "Result: CECC\n",
      "\n",
      "Input: PSRV\n",
      "Target: CEEC\n",
      "Result: CEEC\n",
      "\n",
      "Input: AVPF\n",
      "Target: CEEC\n",
      "Result: CEEC\n",
      "\n",
      "Input: GAW\n",
      "Target: CEC\n",
      "Result: CEC\n",
      "\n",
      "Input: IAG\n",
      "Target: CEC\n",
      "Result: CEC\n",
      "\n",
      "Input: GHRP\n",
      "Target: CECC\n",
      "Result: CECC\n",
      "\n",
      "Input: AKPF\n",
      "Target: CEEC\n",
      "Result: EEEC\n",
      "\n",
      "Input: KRK\n",
      "Target: CEC\n",
      "Result: CEC\n",
      "\n",
      "Input: AVPF\n",
      "Target: CEEC\n",
      "Result: CEEC\n",
      "\n",
      "Input: GHRP\n",
      "Target: CECC\n",
      "Result: CECC\n",
      "\n",
      "Input: KGE\n",
      "Target: CEC\n",
      "Result: CEC\n",
      "\n",
      "Input: WEEL\n",
      "Target: CEEC\n",
      "Result: CEEC\n",
      "\n",
      "Input: RAR\n",
      "Target: CEC\n",
      "Result: CEC\n",
      "\n",
      "Input: KWK\n",
      "Target: CEC\n",
      "Result: CEC\n",
      "\n",
      "Input: KIK\n",
      "Target: CEC\n",
      "Result: CEC\n",
      "\n",
      "Input: AKAA\n",
      "Target: CEEC\n",
      "Result: EEEC\n",
      "\n",
      "Input: AAA\n",
      "Target: CEC\n",
      "Result: CEC\n",
      "\n",
      "Input: ATAA\n",
      "Target: CEEC\n",
      "Result: CEEC\n",
      "\n",
      "Input: KLLF\n",
      "Target: CCCC\n",
      "Result: CCCC\n",
      "\n",
      "Input: FPR\n",
      "Target: CEC\n",
      "Result: CEC\n",
      "\n",
      "Input: KAK\n",
      "Target: CEC\n",
      "Result: CEC\n",
      "\n",
      "Input: KGE\n",
      "Target: CEC\n",
      "Result: CEC\n",
      "\n",
      "Input: ISEV\n",
      "Target: CEEC\n",
      "Result: CEEC\n",
      "\n",
      "Input: GHRP\n",
      "Target: CECC\n",
      "Result: CECC\n",
      "\n",
      "Input: AAAA\n",
      "Target: CCEC\n",
      "Result: CEEC\n",
      "\n",
      "Input: GKGA\n",
      "Target: CCCC\n",
      "Result: CCCC\n",
      "\n",
      "Input: IETD\n",
      "Target: CEEC\n",
      "Result: CEEC\n",
      "\n",
      "Input: LIA\n",
      "Target: CEC\n",
      "Result: CEC\n",
      "\n",
      "Input: GHRP\n",
      "Target: CECC\n",
      "Result: CECC\n",
      "\n",
      "Input: GHRP\n",
      "Target: CECC\n",
      "Result: CECC\n",
      "\n",
      "Input: KSK\n",
      "Target: CEC\n",
      "Result: CEC\n",
      "\n",
      "Input: WEEL\n",
      "Target: CEEC\n",
      "Result: CEEC\n",
      "\n",
      "Input: GHRP\n",
      "Target: CECC\n",
      "Result: CECC\n",
      "\n",
      "Input: AAA\n",
      "Target: CEC\n",
      "Result: CEC\n",
      "\n",
      "Input: QLA\n",
      "Target: CEC\n",
      "Result: CEC\n",
      "\n",
      "Input: KAA\n",
      "Target: CEC\n",
      "Result: CEC\n",
      "\n",
      "Input: FPR\n",
      "Target: CEC\n",
      "Result: CEC\n",
      "\n",
      "Input: RSR\n",
      "Target: CEC\n",
      "Result: CEC\n",
      "\n",
      "Input: AAAA\n",
      "Target: CCEC\n",
      "Result: CEEC\n",
      "\n",
      "Input: LLT\n",
      "Target: CEC\n",
      "Result: CEC\n",
      "\n",
      "Input: PTLV\n",
      "Target: CECC\n",
      "Result: CECC\n",
      "\n",
      "Input: AAAA\n",
      "Target: CCEC\n",
      "Result: CEEC\n",
      "\n",
      "Input: KQK\n",
      "Target: CEC\n",
      "Result: CEC\n",
      "\n",
      "Input: GPRP\n",
      "Target: CECC\n",
      "Result: CECC\n",
      "\n",
      "Input: GPRP\n",
      "Target: CECC\n",
      "Result: CECC\n",
      "\n",
      "Input: RIFS\n",
      "Target: CECC\n",
      "Result: CECC\n",
      "\n",
      "Input: GHRP\n",
      "Target: CECC\n",
      "Result: CECC\n",
      "\n",
      "Input: GHRP\n",
      "Target: CECC\n",
      "Result: CECC\n",
      "\n",
      "Input: AAAA\n",
      "Target: CEEC\n",
      "Result: CEEC\n",
      "\n",
      "Input: GAR\n",
      "Target: CEC\n",
      "Result: CEC\n",
      "\n",
      "Input: KLK\n",
      "Target: CEC\n",
      "Result: CEC\n",
      "\n",
      "Input: IAG\n",
      "Target: CEC\n",
      "Result: CEC\n",
      "\n",
      "Input: GHRP\n",
      "Target: CECC\n",
      "Result: CECC\n",
      "\n",
      "Input: IAG\n",
      "Target: CEC\n",
      "Result: CEC\n",
      "\n",
      "Input: AVPA\n",
      "Target: CEEC\n",
      "Result: CEEC\n",
      "\n",
      "Input: MAS\n",
      "Target: CEC\n",
      "Result: CEC\n",
      "\n",
      "Input: VSKF\n",
      "Target: CEEC\n",
      "Result: CEEC\n",
      "\n",
      "Input: FPR\n",
      "Target: CEC\n",
      "Result: CEC\n",
      "\n",
      "Input: GLF\n",
      "Target: CEC\n",
      "Result: CEC\n",
      "\n",
      "Input: AAA\n",
      "Target: CEC\n",
      "Result: CEC\n",
      "\n",
      "Input: KGE\n",
      "Target: CEC\n",
      "Result: CEC\n",
      "\n",
      "Input: KEK\n",
      "Target: CEC\n",
      "Result: CEC\n",
      "\n",
      "Input: QLA\n",
      "Target: CEC\n",
      "Result: CEC\n",
      "\n",
      "Input: WEEL\n",
      "Target: CEEC\n",
      "Result: CEEC\n",
      "\n",
      "Input: RRAA\n",
      "Target: CECC\n",
      "Result: CCEC\n",
      "\n",
      "Input: KAA\n",
      "Target: CEC\n",
      "Result: CEC\n",
      "\n",
      "Input: KNL\n",
      "Target: CEC\n",
      "Result: CEC\n",
      "\n",
      "Input: GPRP\n",
      "Target: CECC\n",
      "Result: CECC\n",
      "\n",
      "Input: GHRP\n",
      "Target: CECC\n",
      "Result: CECC\n",
      "\n",
      "Input: MAS\n",
      "Target: CEC\n",
      "Result: CEC\n",
      "\n",
      "Input: GPRP\n",
      "Target: CECC\n",
      "Result: CECC\n",
      "\n",
      "Input: GATV\n",
      "Target: CEEC\n",
      "Result: CEEC\n",
      "\n",
      "Input: ISEV\n",
      "Target: CEEC\n",
      "Result: CEEC\n",
      "\n",
      "Input: GHRP\n",
      "Target: CECC\n",
      "Result: CECC\n",
      "\n",
      "Input: PQTA\n",
      "Target: CCEC\n",
      "Result: CCEC\n",
      "\n",
      "Input: KAA\n",
      "Target: CEC\n",
      "Result: CEC\n",
      "\n",
      "Input: FPR\n",
      "Target: CEC\n",
      "Result: CEC\n",
      "\n",
      "Input: EAWE\n",
      "Target: CEEC\n",
      "Result: CEEC\n",
      "\n",
      "Input: MAS\n",
      "Target: CEC\n",
      "Result: CEC\n",
      "\n",
      "Input: AAA\n",
      "Target: CEC\n",
      "Result: CEC\n",
      "\n",
      "Input: KNK\n",
      "Target: CEC\n",
      "Result: CEC\n",
      "\n",
      "Input: GAR\n",
      "Target: CEC\n",
      "Result: CEC\n",
      "\n",
      "Input: GHRP\n",
      "Target: CECC\n",
      "Result: CECC\n",
      "\n",
      "Input: PHRV\n",
      "Target: CEEC\n",
      "Result: CEEC\n",
      "\n",
      "Input: KAA\n",
      "Target: CEC\n",
      "Result: CEC\n",
      "\n",
      "Input: PGLW\n",
      "Target: CEEC\n",
      "Result: CEEC\n",
      "\n",
      "Input: WEEL\n",
      "Target: CEEC\n",
      "Result: CEEC\n",
      "\n",
      "Input: SQEY\n",
      "Target: CCEC\n",
      "Result: CCEC\n",
      "\n",
      "Input: MAS\n",
      "Target: CEC\n",
      "Result: CEC\n",
      "\n",
      "Input: KKK\n",
      "Target: CEC\n",
      "Result: CEC\n",
      "\n",
      "Input: MAS\n",
      "Target: CEC\n",
      "Result: CEC\n",
      "\n",
      "Input: FPR\n",
      "Target: CEC\n",
      "Result: CEC\n",
      "\n",
      "Input: AAAA\n",
      "Target: CCEC\n",
      "Result: CEEC\n",
      "\n",
      "Input: YQF\n",
      "Target: CEC\n",
      "Result: CEC\n",
      "\n",
      "Input: FPR\n",
      "Target: CEC\n",
      "Result: CEC\n",
      "\n",
      "Input: SDEF\n",
      "Target: CCEC\n",
      "Result: CCEC\n",
      "\n",
      "Input: GPRP\n",
      "Target: CECC\n",
      "Result: CECC\n",
      "\n",
      "Input: ISEV\n",
      "Target: CEEC\n",
      "Result: CEEC\n",
      "\n",
      "Input: GHRP\n",
      "Target: CECC\n",
      "Result: CECC\n",
      "\n",
      "Input: WYTR\n",
      "Target: CCEC\n",
      "Result: CCEC\n",
      "\n",
      "Input: SSTI\n",
      "Target: CECC\n",
      "Result: CECC\n",
      "\n",
      "Input: KVK\n",
      "Target: CEC\n",
      "Result: CEC\n",
      "\n",
      "Input: GHRP\n",
      "Target: CECC\n",
      "Result: CECC\n",
      "\n",
      "Input: FGLF\n",
      "Target: CCEC\n",
      "Result: CCEC\n",
      "\n",
      "Input: KFK\n",
      "Target: CEC\n",
      "Result: CEC\n",
      "\n",
      "Input: GHRP\n",
      "Target: CECC\n",
      "Result: CECC\n",
      "\n",
      "Input: KAA\n",
      "Target: CEC\n",
      "Result: CEC\n",
      "\n",
      "Input: KAK\n",
      "Target: CEC\n",
      "Result: CEC\n",
      "\n",
      "Input: GPRP\n",
      "Target: CECC\n",
      "Result: CECC\n",
      "\n",
      "Input: GAK\n",
      "Target: CEC\n",
      "Result: CEC\n",
      "\n",
      "Input: IETD\n",
      "Target: CEEC\n",
      "Result: CEEC\n",
      "\n",
      "Input: KAA\n",
      "Target: CEC\n",
      "Result: CEC\n",
      "\n",
      "Input: AAPV\n",
      "Target: CEEC\n",
      "Result: CEEC\n",
      "\n",
      "Input: AAAA\n",
      "Target: CCEC\n",
      "Result: CEEC\n",
      "\n",
      "Input: AAAA\n",
      "Target: CCEC\n",
      "Result: CEEC\n",
      "\n",
      "Input: VEPI\n",
      "Target: CEEC\n",
      "Result: CEEC\n",
      "\n",
      "Input: LLT\n",
      "Target: CEC\n",
      "Result: CEC\n",
      "\n",
      "Input: MAS\n",
      "Target: CEC\n",
      "Result: CEC\n",
      "\n",
      "Input: RVRK\n",
      "Target: CCEC\n",
      "Result: CCEC\n",
      "\n",
      "Input: RVRK\n",
      "Target: CCEC\n",
      "Result: CCEC\n",
      "\n",
      "Input: IEI\n",
      "Target: CEC\n",
      "Result: CEC\n",
      "\n",
      "Input: AAA\n",
      "Target: CEC\n",
      "Result: CEC\n",
      "\n",
      "Input: PGAY\n",
      "Target: CCEC\n",
      "Result: CCEC\n",
      "\n",
      "Input: KKKA\n",
      "Target: CECC\n",
      "Result: CEEC\n",
      "\n",
      "Input: IAG\n",
      "Target: CEC\n",
      "Result: CEC\n",
      "\n",
      "Input: DAIY\n",
      "Target: CEEC\n",
      "Result: CEEC\n",
      "\n",
      "Input: GSNS\n",
      "Target: CCEC\n",
      "Result: CCEC\n",
      "\n",
      "Input: FPR\n",
      "Target: CEC\n",
      "Result: CEC\n",
      "\n",
      "Input: KDK\n",
      "Target: CEC\n",
      "Result: CEC\n",
      "\n",
      "Input: EGR\n",
      "Target: CEC\n",
      "Result: CEC\n",
      "\n",
      "Input: KAK\n",
      "Target: CEC\n",
      "Result: CEC\n",
      "\n",
      "Input: AAAA\n",
      "Target: CCEC\n",
      "Result: CEEC\n",
      "\n",
      "Input: DQII\n",
      "Target: CEEC\n",
      "Result: CEEC\n",
      "\n",
      "Input: VKPG\n",
      "Target: CECC\n",
      "Result: CECC\n",
      "\n",
      "Input: GHRP\n",
      "Target: CECC\n",
      "Result: CECC\n",
      "\n",
      "Input: GHRP\n",
      "Target: CECC\n",
      "Result: CECC\n",
      "\n",
      "Input: AETF\n",
      "Target: CEEC\n",
      "Result: CEEC\n",
      "\n",
      "Input: GPRP\n",
      "Target: CECC\n",
      "Result: CECC\n",
      "\n",
      "Input: GHRP\n",
      "Target: CECC\n",
      "Result: CECC\n",
      "\n",
      "Input: GHRP\n",
      "Target: CECC\n",
      "Result: CECC\n",
      "\n",
      "Input: LLT\n",
      "Target: CEC\n",
      "Result: CEC\n",
      "\n",
      "Input: KVK\n",
      "Target: CEC\n",
      "Result: CEC\n",
      "\n",
      "Input: LLF\n",
      "Target: CEC\n",
      "Result: CEC\n",
      "\n",
      "Input: MLF\n",
      "Target: CEC\n",
      "Result: CEC\n",
      "\n",
      "Input: FPR\n",
      "Target: CEC\n",
      "Result: CEC\n",
      "\n",
      "Input: KCK\n",
      "Target: CEC\n",
      "Result: CEC\n",
      "\n",
      "Input: AAK\n",
      "Target: CEC\n",
      "Result: CEC\n",
      "\n",
      "Input: LQES\n",
      "Target: CECC\n",
      "Result: CECC\n",
      "\n",
      "Input: PSRW\n",
      "Target: CEEC\n",
      "Result: CEEC\n",
      "\n",
      "Input: MAS\n",
      "Target: CEC\n",
      "Result: CEC\n",
      "\n",
      "Input: GPRP\n",
      "Target: CECC\n",
      "Result: CECC\n",
      "\n",
      "Input: KGE\n",
      "Target: CEC\n",
      "Result: CEC\n",
      "\n",
      "Input: KTK\n",
      "Target: CEC\n",
      "Result: CEC\n",
      "\n",
      "Input: FPR\n",
      "Target: CEC\n",
      "Result: CEC\n",
      "\n",
      "Input: GPRP\n",
      "Target: CECC\n",
      "Result: CECC\n",
      "\n",
      "Input: MAS\n",
      "Target: CEC\n",
      "Result: CEC\n",
      "\n",
      "Input: KAK\n",
      "Target: CEC\n",
      "Result: CEC\n",
      "\n",
      "Input: AMRV\n",
      "Target: CEEC\n",
      "Result: CEEC\n",
      "\n",
      "Input: AAAA\n",
      "Target: CCEC\n",
      "Result: CEEC\n",
      "\n",
      "Input: WEEL\n",
      "Target: CEEC\n",
      "Result: CEEC\n",
      "\n",
      "Input: DVA\n",
      "Target: CEC\n",
      "Result: CEC\n",
      "\n",
      "Input: KHK\n",
      "Target: CEC\n",
      "Result: CEC\n",
      "\n",
      "Input: KGK\n",
      "Target: CEC\n",
      "Result: CEC\n",
      "\n",
      "Input: KYK\n",
      "Target: CEC\n",
      "Result: CEC\n",
      "\n",
      "Input: GHRP\n",
      "Target: CECC\n",
      "Result: CECC\n",
      "\n",
      "Input: FPR\n",
      "Target: CEC\n",
      "Result: CEC\n",
      "\n",
      "Input: MAS\n",
      "Target: CEC\n",
      "Result: CEC\n",
      "\n"
     ]
    },
    {
     "ename": "IndexError",
     "evalue": "index 216 is out of bounds for axis 0 with size 216",
     "output_type": "error",
     "traceback": [
      "\u001b[1;31m---------------------------------------------------------------------------\u001b[0m",
      "\u001b[1;31mIndexError\u001b[0m                                Traceback (most recent call last)",
      "Cell \u001b[1;32mIn[62], line 4\u001b[0m\n\u001b[0;32m      2\u001b[0m \u001b[38;5;28mprint\u001b[39m(\u001b[38;5;124m\"\u001b[39m\u001b[38;5;124mTraining----------------------------\u001b[39m\u001b[38;5;124m\"\u001b[39m)\n\u001b[0;32m      3\u001b[0m \u001b[38;5;28;01mfor\u001b[39;00m i \u001b[38;5;129;01min\u001b[39;00m \u001b[38;5;28mrange\u001b[39m(N):\n\u001b[1;32m----> 4\u001b[0m     \u001b[38;5;28mprint\u001b[39m(\u001b[38;5;124m\"\u001b[39m\u001b[38;5;124mInput: \u001b[39m\u001b[38;5;124m\"\u001b[39m \u001b[38;5;241m+\u001b[39m \u001b[43mseq_train\u001b[49m\u001b[43m[\u001b[49m\u001b[43mi\u001b[49m\u001b[43m]\u001b[49m)\n\u001b[0;32m      5\u001b[0m     \u001b[38;5;28mprint\u001b[39m(\u001b[38;5;124m\"\u001b[39m\u001b[38;5;124mTarget: \u001b[39m\u001b[38;5;124m\"\u001b[39m \u001b[38;5;241m+\u001b[39m onehot_to_seq(y_train[i], revsere_decoder_index)\u001b[38;5;241m.\u001b[39mupper())\n\u001b[0;32m      6\u001b[0m     \u001b[38;5;28mprint\u001b[39m(\u001b[38;5;124m\"\u001b[39m\u001b[38;5;124mResult: \u001b[39m\u001b[38;5;124m\"\u001b[39m \u001b[38;5;241m+\u001b[39m onehot_to_seq(y_train_pred[i], revsere_decoder_index)\u001b[38;5;241m.\u001b[39mupper())\n",
      "\u001b[1;31mIndexError\u001b[0m: index 216 is out of bounds for axis 0 with size 216"
     ]
    }
   ],
   "source": [
    "N=500\n",
    "print(\"Training----------------------------\")\n",
    "for i in range(N):\n",
    "    print(\"Input: \" + seq_train[i])\n",
    "    print(\"Target: \" + onehot_to_seq(y_train[i], revsere_decoder_index).upper())\n",
    "    print(\"Result: \" + onehot_to_seq(y_train_pred[i], revsere_decoder_index).upper())\n",
    "    print()"
   ]
  },
  {
   "cell_type": "code",
   "execution_count": 63,
   "id": "098e402d",
   "metadata": {},
   "outputs": [
    {
     "name": "stdout",
     "output_type": "stream",
     "text": [
      "Testing----------------------------\n",
      "Input: ISEV\n",
      "Target: CEEC\n",
      "Result: CEEC\n",
      "\n",
      "Input: KKK\n",
      "Target: CEC\n",
      "Result: CEC\n",
      "\n",
      "Input: GPRP\n",
      "Target: CECC\n",
      "Result: CECC\n",
      "\n",
      "Input: AVPF\n",
      "Target: CEEC\n",
      "Result: CEEC\n",
      "\n",
      "Input: AAAA\n",
      "Target: CEEC\n",
      "Result: CEEC\n",
      "\n",
      "Input: RVRK\n",
      "Target: CCEC\n",
      "Result: CCEC\n",
      "\n",
      "Input: KAA\n",
      "Target: CEC\n",
      "Result: CEC\n",
      "\n",
      "Input: VSRR\n",
      "Target: CCEC\n",
      "Result: CEEC\n",
      "\n",
      "Input: WEEL\n",
      "Target: CEEC\n",
      "Result: CEEC\n",
      "\n",
      "Input: KAK\n",
      "Target: CEC\n",
      "Result: CEC\n",
      "\n",
      "Input: ENW\n",
      "Target: CEC\n",
      "Result: CCC\n",
      "\n",
      "Input: GAR\n",
      "Target: CEC\n",
      "Result: CEC\n",
      "\n",
      "Input: APR\n",
      "Target: CEC\n",
      "Result: EEC\n",
      "\n",
      "Input: AAAA\n",
      "Target: CEEC\n",
      "Result: CEEC\n",
      "\n",
      "Input: FPR\n",
      "Target: CEC\n",
      "Result: CEC\n",
      "\n",
      "Input: GATV\n",
      "Target: CCEC\n",
      "Result: CEEC\n",
      "\n",
      "Input: KFK\n",
      "Target: CEC\n",
      "Result: CEC\n",
      "\n",
      "Input: AAAA\n",
      "Target: CCEC\n",
      "Result: CEEC\n",
      "\n",
      "Input: PGVY\n",
      "Target: CCEC\n",
      "Result: CCEC\n",
      "\n",
      "Input: WEEL\n",
      "Target: CEEC\n",
      "Result: CEEC\n",
      "\n",
      "Input: GAK\n",
      "Target: CEC\n",
      "Result: CEC\n",
      "\n",
      "Input: LVVN\n",
      "Target: CCEC\n",
      "Result: CECC\n",
      "\n",
      "Input: WEEL\n",
      "Target: CEEC\n",
      "Result: CEEC\n",
      "\n",
      "Input: AVPI\n",
      "Target: CEEC\n",
      "Result: CEEC\n",
      "\n",
      "Input: AAAA\n",
      "Target: CCEC\n",
      "Result: CEEC\n",
      "\n",
      "Input: RVRK\n",
      "Target: CCEC\n",
      "Result: CCEC\n",
      "\n",
      "Input: AAAA\n",
      "Target: CCEC\n",
      "Result: CEEC\n",
      "\n",
      "Input: SVPI\n",
      "Target: CEEC\n",
      "Result: CEEC\n",
      "\n",
      "Input: AAPV\n",
      "Target: CEEC\n",
      "Result: CEEC\n",
      "\n",
      "Input: EKW\n",
      "Target: CEC\n",
      "Result: EEC\n",
      "\n",
      "Input: AVPW\n",
      "Target: CEEC\n",
      "Result: CEEC\n",
      "\n",
      "Input: GHRP\n",
      "Target: CECC\n",
      "Result: CECC\n",
      "\n",
      "Input: GHRP\n",
      "Target: CECC\n",
      "Result: CECC\n",
      "\n",
      "Input: GPRP\n",
      "Target: CECC\n",
      "Result: CECC\n",
      "\n",
      "Input: GPRP\n",
      "Target: CECC\n",
      "Result: CECC\n",
      "\n",
      "Input: LLT\n",
      "Target: CEC\n",
      "Result: CEC\n",
      "\n",
      "Input: AAAA\n",
      "Target: CCEC\n",
      "Result: CEEC\n",
      "\n",
      "Input: ARTK\n",
      "Target: CEEC\n",
      "Result: EEEC\n",
      "\n",
      "Input: KGE\n",
      "Target: CEC\n",
      "Result: CEC\n",
      "\n",
      "Input: GHRP\n",
      "Target: CECC\n",
      "Result: CECC\n",
      "\n",
      "Input: AFTS\n",
      "Target: CCEC\n",
      "Result: CCCC\n",
      "\n",
      "Input: GHRP\n",
      "Target: CECC\n",
      "Result: CECC\n",
      "\n",
      "Input: KGE\n",
      "Target: CEC\n",
      "Result: CEC\n",
      "\n",
      "Input: MAR\n",
      "Target: CEC\n",
      "Result: CEC\n",
      "\n",
      "Input: KAK\n",
      "Target: CEC\n",
      "Result: CEC\n",
      "\n",
      "Input: GPRP\n",
      "Target: CECC\n",
      "Result: CECC\n",
      "\n",
      "Input: KNL\n",
      "Target: CEC\n",
      "Result: CEC\n",
      "\n",
      "Input: GHRP\n",
      "Target: CECC\n",
      "Result: CECC\n",
      "\n",
      "Input: AAAA\n",
      "Target: CECC\n",
      "Result: CEEC\n",
      "\n",
      "Input: KAA\n",
      "Target: CEC\n",
      "Result: CEC\n",
      "\n",
      "Input: GHRP\n",
      "Target: CECC\n",
      "Result: CECC\n",
      "\n",
      "Input: KPK\n",
      "Target: CEC\n",
      "Result: CCC\n",
      "\n",
      "Input: KGE\n",
      "Target: CEC\n",
      "Result: CEC\n",
      "\n",
      "Input: SSTI\n",
      "Target: CECC\n",
      "Result: CECC\n",
      "\n"
     ]
    },
    {
     "ename": "IndexError",
     "evalue": "index 54 is out of bounds for axis 0 with size 54",
     "output_type": "error",
     "traceback": [
      "\u001b[1;31m---------------------------------------------------------------------------\u001b[0m",
      "\u001b[1;31mIndexError\u001b[0m                                Traceback (most recent call last)",
      "Cell \u001b[1;32mIn[63], line 4\u001b[0m\n\u001b[0;32m      2\u001b[0m \u001b[38;5;28mprint\u001b[39m(\u001b[38;5;124m\"\u001b[39m\u001b[38;5;124mTesting----------------------------\u001b[39m\u001b[38;5;124m\"\u001b[39m)\n\u001b[0;32m      3\u001b[0m \u001b[38;5;28;01mfor\u001b[39;00m i \u001b[38;5;129;01min\u001b[39;00m \u001b[38;5;28mrange\u001b[39m(N):\n\u001b[1;32m----> 4\u001b[0m     \u001b[38;5;28mprint\u001b[39m(\u001b[38;5;124m\"\u001b[39m\u001b[38;5;124mInput: \u001b[39m\u001b[38;5;124m\"\u001b[39m \u001b[38;5;241m+\u001b[39m \u001b[43mseq_test\u001b[49m\u001b[43m[\u001b[49m\u001b[43mi\u001b[49m\u001b[43m]\u001b[49m)\n\u001b[0;32m      5\u001b[0m     \u001b[38;5;28mprint\u001b[39m(\u001b[38;5;124m\"\u001b[39m\u001b[38;5;124mTarget: \u001b[39m\u001b[38;5;124m\"\u001b[39m \u001b[38;5;241m+\u001b[39m onehot_to_seq(y_test[i], revsere_decoder_index)\u001b[38;5;241m.\u001b[39mupper())\n\u001b[0;32m      6\u001b[0m     \u001b[38;5;28mprint\u001b[39m(\u001b[38;5;124m\"\u001b[39m\u001b[38;5;124mResult: \u001b[39m\u001b[38;5;124m\"\u001b[39m \u001b[38;5;241m+\u001b[39m onehot_to_seq(y_test_pred[i], revsere_decoder_index)\u001b[38;5;241m.\u001b[39mupper())\n",
      "\u001b[1;31mIndexError\u001b[0m: index 54 is out of bounds for axis 0 with size 54"
     ]
    }
   ],
   "source": [
    "N=500\n",
    "print(\"Testing----------------------------\")\n",
    "for i in range(N):\n",
    "    print(\"Input: \" + seq_test[i])\n",
    "    print(\"Target: \" + onehot_to_seq(y_test[i], revsere_decoder_index).upper())\n",
    "    print(\"Result: \" + onehot_to_seq(y_test_pred[i], revsere_decoder_index).upper())\n",
    "    print()"
   ]
  },
  {
   "cell_type": "code",
   "execution_count": 79,
   "id": "d32e515b",
   "metadata": {
    "scrolled": true
   },
   "outputs": [
    {
     "name": "stdout",
     "output_type": "stream",
     "text": [
      "EDK\n",
      "[[0. 1. 0.]\n",
      " [0. 0. 1.]\n",
      " [0. 1. 0.]\n",
      " [1. 0. 0.]]\n",
      "[[3.4799948e-04 9.9897885e-01 6.7320780e-04]\n",
      " [5.9440877e-06 2.6322843e-03 9.9736178e-01]\n",
      " [6.3474988e-07 9.9999231e-01 7.0184633e-06]\n",
      " [9.9960119e-01 3.9833592e-04 5.1524535e-07]]\n"
     ]
    }
   ],
   "source": [
    "print(seq_train[42])\n",
    "print(y_train[42])\n",
    "print(y_train_pred[42])"
   ]
  },
  {
   "cell_type": "code",
   "execution_count": 67,
   "id": "8f0e1d87",
   "metadata": {},
   "outputs": [
    {
     "data": {
      "image/png": "[encoded data removed]",
      "text/plain": [
       "<Figure size 1000x1000 with 1 Axes>"
      ]
     },
     "metadata": {},
     "output_type": "display_data"
    }
   ],
   "source": [
    "import matplotlib.pyplot as plt\n",
    "import numpy as np\n",
    "from sklearn import svm\n",
    "from sklearn.metrics import auc\n",
    "from sklearn.metrics import RocCurveDisplay\n",
    "from sklearn.model_selection import StratifiedKFold\n",
    "\n",
    "cv = StratifiedKFold(n_splits=5) \n",
    "classifier = svm.SVC(kernel='rbf', gamma = 0.1, C=1.7)\n",
    "\n",
    "tprs = []\n",
    "aucs = []\n",
    "mean_fpr = np.linspace(0, 1, 100)\n",
    "\n",
    "fig, ax = plt.subplots(figsize=(10, 10))\n",
    "for fold, (train, test) in enumerate(cv.split(X, y)):\n",
    "    classifier.fit(X[train], y[train])\n",
    "    viz = RocCurveDisplay.from_estimator(\n",
    "        classifier,\n",
    "        X[test],\n",
    "        y[test],\n",
    "        name=f\"ROC fold {fold}\",\n",
    "        alpha=0.3,\n",
    "        lw=1,\n",
    "        ax=ax,\n",
    "    )\n",
    "    interp_tpr = np.interp(mean_fpr, viz.fpr, viz.tpr)\n",
    "    interp_tpr[0] = 0.0\n",
    "    tprs.append(interp_tpr)\n",
    "    aucs.append(viz.roc_auc)\n",
    "ax.plot([0, 1], [0, 1], \"k--\", label=\"chance level (AUC = 0.5)\")\n",
    "\n",
    "mean_tpr = np.mean(tprs, axis=0)\n",
    "mean_tpr[-1] = 1.0\n",
    "mean_auc = auc(mean_fpr, mean_tpr)\n",
    "std_auc = np.std(aucs)\n",
    "ax.plot(\n",
    "    mean_fpr,\n",
    "    mean_tpr,\n",
    "    color=\"b\",\n",
    "    label=r\"Mean ROC (AUC = %0.2f $\\pm$ %0.2f)\" % (mean_auc, std_auc),\n",
    "    lw=2,\n",
    "    alpha=0.8,\n",
    ")\n",
    "\n",
    "std_tpr = np.std(tprs, axis=0)\n",
    "tprs_upper = np.minimum(mean_tpr + std_tpr, 1)\n",
    "tprs_lower = np.maximum(mean_tpr - std_tpr, 0)\n",
    "ax.fill_between(\n",
    "    mean_fpr,\n",
    "    tprs_lower,\n",
    "    tprs_upper,\n",
    "    color=\"grey\",\n",
    "    alpha=0.2,\n",
    "    label=r\"$\\pm$ 1 std. dev.\",\n",
    ")\n",
    "\n",
    "ax.set(\n",
    "    xlim=[-0.05, 1.05],\n",
    "    ylim=[-0.05, 1.05],\n",
    "    xlabel=\"False Positive Rate\",\n",
    "    ylabel=\"True Positive Rate\",\n",
    "    title=\"Mean ROC curve\",\n",
    ")\n",
    "ax.axis(\"square\")\n",
    "ax.legend(loc=\"lower right\")\n",
    "plt.show()"
   ]
  },
  {
   "cell_type": "code",
   "execution_count": 66,
   "id": "1fed2e04",
   "metadata": {},
   "outputs": [
    {
     "name": "stdout",
     "output_type": "stream",
     "text": [
      "No Skill: ROC AUC=0.500\n",
      "Logistic: ROC AUC=0.903\n"
     ]
    },
    {
     "data": {
      "image/png": "[encoded data removed]",
      "text/plain": [
       "<Figure size 640x480 with 1 Axes>"
      ]
     },
     "metadata": {},
     "output_type": "display_data"
    }
   ],
   "source": [
    "# roc curve and auc\n",
    "from sklearn.datasets import make_classification\n",
    "from sklearn.linear_model import LogisticRegression\n",
    "from sklearn.model_selection import train_test_split\n",
    "from sklearn.metrics import roc_curve\n",
    "from sklearn.metrics import roc_auc_score\n",
    "from matplotlib import pyplot\n",
    "# generate 2 class dataset\n",
    "X, y = make_classification(n_samples=1000, n_classes=2, random_state=1)\n",
    "# split into train/test sets\n",
    "trainX, testX, trainy, testy = train_test_split(X, y, test_size=0.5, random_state=2)\n",
    "# generate a no skill prediction (majority class)\n",
    "ns_probs = [0 for _ in range(len(testy))]\n",
    "# fit a model\n",
    "model = LogisticRegression(solver='lbfgs')\n",
    "model.fit(trainX, trainy)\n",
    "# predict probabilities\n",
    "lr_probs = model.predict_proba(testX)\n",
    "# keep probabilities for the positive outcome only\n",
    "lr_probs = lr_probs[:, 1]\n",
    "# calculate scores\n",
    "ns_auc = roc_auc_score(testy, ns_probs)\n",
    "lr_auc = roc_auc_score(testy, lr_probs)\n",
    "# summarize scores\n",
    "print('No Skill: ROC AUC=%.3f' % (ns_auc))\n",
    "print('Logistic: ROC AUC=%.3f' % (lr_auc))\n",
    "# calculate roc curves\n",
    "ns_fpr, ns_tpr, _ = roc_curve(testy, ns_probs)\n",
    "lr_fpr, lr_tpr, _ = roc_curve(testy, lr_probs)\n",
    "# plot the roc curve for the model\n",
    "pyplot.plot(ns_fpr, ns_tpr, linestyle='--', label='No Skill')\n",
    "pyplot.plot(lr_fpr, lr_tpr, marker='.', label='Logistic')\n",
    "# axis labels\n",
    "pyplot.xlabel('False Positive Rate')\n",
    "pyplot.ylabel('True Positive Rate')\n",
    "# show the legend\n",
    "pyplot.legend()\n",
    "# show the plot\n",
    "pyplot.show()"
   ]
  },
  {
   "cell_type": "code",
   "execution_count": null,
   "id": "5b04e883",
   "metadata": {},
   "outputs": [],
   "source": []
  }
 ],
 "metadata": {
  "kernelspec": {
   "display_name": "Python 3 (ipykernel)",
   "language": "python",
   "name": "python3"
  },
  "language_info": {
   "codemirror_mode": {
    "name": "ipython",
    "version": 3
   },
   "file_extension": ".py",
   "mimetype": "text/x-python",
   "name": "python",
   "nbconvert_exporter": "python",
   "pygments_lexer": "ipython3",
   "version": "3.9.7"
  }
 },
 "nbformat": 4,
 "nbformat_minor": 5
}
